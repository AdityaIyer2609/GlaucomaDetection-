{
 "cells": [
  {
   "cell_type": "code",
   "execution_count": 1,
   "id": "d0bf5e42",
   "metadata": {
    "_cell_guid": "b1076dfc-b9ad-4769-8c92-a6c4dae69d19",
    "_uuid": "8f2839f25d086af736a60e9eeb907d3b93b6e0e5",
    "execution": {
     "iopub.execute_input": "2021-12-28T10:20:37.886709Z",
     "iopub.status.busy": "2021-12-28T10:20:37.885228Z",
     "iopub.status.idle": "2021-12-28T10:20:38.758604Z",
     "shell.execute_reply": "2021-12-28T10:20:38.758018Z",
     "shell.execute_reply.started": "2021-12-28T10:19:40.338141Z"
    },
    "papermill": {
     "duration": 0.89919,
     "end_time": "2021-12-28T10:20:38.758759",
     "exception": false,
     "start_time": "2021-12-28T10:20:37.859569",
     "status": "completed"
    },
    "tags": []
   },
   "outputs": [],
   "source": [
    "import pandas as pd\n",
    "import numpy as np\n",
    "from sklearn.model_selection import train_test_split  \n",
    "from sklearn.metrics import accuracy_score\n",
    "from sklearn.metrics import roc_auc_score\n",
    "from sklearn.svm import LinearSVC\n",
    "from sklearn.naive_bayes import GaussianNB  \n",
    "from sklearn.discriminant_analysis import LinearDiscriminantAnalysis\n",
    "from sklearn.decomposition import PCA\n"
   ]
  },
  {
   "cell_type": "code",
   "execution_count": 2,
   "id": "bb35bc1a",
   "metadata": {
    "execution": {
     "iopub.execute_input": "2021-12-28T10:20:38.804823Z",
     "iopub.status.busy": "2021-12-28T10:20:38.804310Z",
     "iopub.status.idle": "2021-12-28T10:20:38.831273Z",
     "shell.execute_reply": "2021-12-28T10:20:38.830830Z",
     "shell.execute_reply.started": "2021-12-28T10:19:41.475876Z"
    },
    "papermill": {
     "duration": 0.051177,
     "end_time": "2021-12-28T10:20:38.831385",
     "exception": false,
     "start_time": "2021-12-28T10:20:38.780208",
     "status": "completed"
    },
    "tags": []
   },
   "outputs": [],
   "source": [
    "data=pd.read_csv('../input/glaucoma/glaucoma.csv')"
   ]
  },
  {
   "cell_type": "code",
   "execution_count": 3,
   "id": "2450750f",
   "metadata": {
    "execution": {
     "iopub.execute_input": "2021-12-28T10:20:38.881424Z",
     "iopub.status.busy": "2021-12-28T10:20:38.880806Z",
     "iopub.status.idle": "2021-12-28T10:20:38.912932Z",
     "shell.execute_reply": "2021-12-28T10:20:38.913365Z",
     "shell.execute_reply.started": "2021-12-28T10:19:41.503720Z"
    },
    "papermill": {
     "duration": 0.061226,
     "end_time": "2021-12-28T10:20:38.913491",
     "exception": false,
     "start_time": "2021-12-28T10:20:38.852265",
     "status": "completed"
    },
    "tags": []
   },
   "outputs": [
    {
     "data": {
      "text/html": [
       "<div>\n",
       "<style scoped>\n",
       "    .dataframe tbody tr th:only-of-type {\n",
       "        vertical-align: middle;\n",
       "    }\n",
       "\n",
       "    .dataframe tbody tr th {\n",
       "        vertical-align: top;\n",
       "    }\n",
       "\n",
       "    .dataframe thead th {\n",
       "        text-align: right;\n",
       "    }\n",
       "</style>\n",
       "<table border=\"1\" class=\"dataframe\">\n",
       "  <thead>\n",
       "    <tr style=\"text-align: right;\">\n",
       "      <th></th>\n",
       "      <th>ag</th>\n",
       "      <th>at</th>\n",
       "      <th>as</th>\n",
       "      <th>an</th>\n",
       "      <th>ai</th>\n",
       "      <th>eag</th>\n",
       "      <th>eat</th>\n",
       "      <th>eas</th>\n",
       "      <th>ean</th>\n",
       "      <th>eai</th>\n",
       "      <th>...</th>\n",
       "      <th>tmt</th>\n",
       "      <th>tms</th>\n",
       "      <th>tmn</th>\n",
       "      <th>tmi</th>\n",
       "      <th>mr</th>\n",
       "      <th>rnf</th>\n",
       "      <th>mdic</th>\n",
       "      <th>emd</th>\n",
       "      <th>mv</th>\n",
       "      <th>Class</th>\n",
       "    </tr>\n",
       "  </thead>\n",
       "  <tbody>\n",
       "    <tr>\n",
       "      <th>0</th>\n",
       "      <td>2.220</td>\n",
       "      <td>0.354</td>\n",
       "      <td>0.580</td>\n",
       "      <td>0.686</td>\n",
       "      <td>0.601</td>\n",
       "      <td>1.267</td>\n",
       "      <td>0.336</td>\n",
       "      <td>0.346</td>\n",
       "      <td>0.255</td>\n",
       "      <td>0.331</td>\n",
       "      <td>...</td>\n",
       "      <td>-0.018</td>\n",
       "      <td>-0.230</td>\n",
       "      <td>-0.510</td>\n",
       "      <td>-0.158</td>\n",
       "      <td>0.841</td>\n",
       "      <td>0.410</td>\n",
       "      <td>0.137</td>\n",
       "      <td>0.239</td>\n",
       "      <td>0.035</td>\n",
       "      <td>0</td>\n",
       "    </tr>\n",
       "    <tr>\n",
       "      <th>1</th>\n",
       "      <td>2.681</td>\n",
       "      <td>0.475</td>\n",
       "      <td>0.672</td>\n",
       "      <td>0.868</td>\n",
       "      <td>0.667</td>\n",
       "      <td>2.053</td>\n",
       "      <td>0.440</td>\n",
       "      <td>0.520</td>\n",
       "      <td>0.639</td>\n",
       "      <td>0.454</td>\n",
       "      <td>...</td>\n",
       "      <td>-0.014</td>\n",
       "      <td>-0.165</td>\n",
       "      <td>-0.317</td>\n",
       "      <td>-0.192</td>\n",
       "      <td>0.924</td>\n",
       "      <td>0.256</td>\n",
       "      <td>0.252</td>\n",
       "      <td>0.329</td>\n",
       "      <td>0.022</td>\n",
       "      <td>0</td>\n",
       "    </tr>\n",
       "    <tr>\n",
       "      <th>2</th>\n",
       "      <td>1.979</td>\n",
       "      <td>0.343</td>\n",
       "      <td>0.508</td>\n",
       "      <td>0.624</td>\n",
       "      <td>0.504</td>\n",
       "      <td>1.200</td>\n",
       "      <td>0.299</td>\n",
       "      <td>0.396</td>\n",
       "      <td>0.259</td>\n",
       "      <td>0.246</td>\n",
       "      <td>...</td>\n",
       "      <td>-0.097</td>\n",
       "      <td>-0.235</td>\n",
       "      <td>-0.337</td>\n",
       "      <td>-0.020</td>\n",
       "      <td>0.795</td>\n",
       "      <td>0.378</td>\n",
       "      <td>0.152</td>\n",
       "      <td>0.250</td>\n",
       "      <td>0.029</td>\n",
       "      <td>0</td>\n",
       "    </tr>\n",
       "    <tr>\n",
       "      <th>3</th>\n",
       "      <td>1.747</td>\n",
       "      <td>0.269</td>\n",
       "      <td>0.476</td>\n",
       "      <td>0.525</td>\n",
       "      <td>0.476</td>\n",
       "      <td>0.612</td>\n",
       "      <td>0.147</td>\n",
       "      <td>0.017</td>\n",
       "      <td>0.044</td>\n",
       "      <td>0.405</td>\n",
       "      <td>...</td>\n",
       "      <td>-0.035</td>\n",
       "      <td>-0.449</td>\n",
       "      <td>-0.217</td>\n",
       "      <td>-0.091</td>\n",
       "      <td>0.746</td>\n",
       "      <td>0.200</td>\n",
       "      <td>0.027</td>\n",
       "      <td>0.078</td>\n",
       "      <td>0.023</td>\n",
       "      <td>0</td>\n",
       "    </tr>\n",
       "    <tr>\n",
       "      <th>4</th>\n",
       "      <td>2.990</td>\n",
       "      <td>0.599</td>\n",
       "      <td>0.686</td>\n",
       "      <td>1.039</td>\n",
       "      <td>0.667</td>\n",
       "      <td>2.513</td>\n",
       "      <td>0.543</td>\n",
       "      <td>0.607</td>\n",
       "      <td>0.871</td>\n",
       "      <td>0.492</td>\n",
       "      <td>...</td>\n",
       "      <td>-0.105</td>\n",
       "      <td>0.084</td>\n",
       "      <td>-0.012</td>\n",
       "      <td>-0.054</td>\n",
       "      <td>0.977</td>\n",
       "      <td>0.193</td>\n",
       "      <td>0.297</td>\n",
       "      <td>0.354</td>\n",
       "      <td>0.034</td>\n",
       "      <td>0</td>\n",
       "    </tr>\n",
       "  </tbody>\n",
       "</table>\n",
       "<p>5 rows × 63 columns</p>\n",
       "</div>"
      ],
      "text/plain": [
       "      ag     at     as     an     ai    eag    eat    eas    ean    eai  ...  \\\n",
       "0  2.220  0.354  0.580  0.686  0.601  1.267  0.336  0.346  0.255  0.331  ...   \n",
       "1  2.681  0.475  0.672  0.868  0.667  2.053  0.440  0.520  0.639  0.454  ...   \n",
       "2  1.979  0.343  0.508  0.624  0.504  1.200  0.299  0.396  0.259  0.246  ...   \n",
       "3  1.747  0.269  0.476  0.525  0.476  0.612  0.147  0.017  0.044  0.405  ...   \n",
       "4  2.990  0.599  0.686  1.039  0.667  2.513  0.543  0.607  0.871  0.492  ...   \n",
       "\n",
       "     tmt    tms    tmn    tmi     mr    rnf   mdic    emd     mv  Class  \n",
       "0 -0.018 -0.230 -0.510 -0.158  0.841  0.410  0.137  0.239  0.035      0  \n",
       "1 -0.014 -0.165 -0.317 -0.192  0.924  0.256  0.252  0.329  0.022      0  \n",
       "2 -0.097 -0.235 -0.337 -0.020  0.795  0.378  0.152  0.250  0.029      0  \n",
       "3 -0.035 -0.449 -0.217 -0.091  0.746  0.200  0.027  0.078  0.023      0  \n",
       "4 -0.105  0.084 -0.012 -0.054  0.977  0.193  0.297  0.354  0.034      0  \n",
       "\n",
       "[5 rows x 63 columns]"
      ]
     },
     "execution_count": 3,
     "metadata": {},
     "output_type": "execute_result"
    }
   ],
   "source": [
    "data.head()"
   ]
  },
  {
   "cell_type": "markdown",
   "id": "2f2a5efc",
   "metadata": {
    "papermill": {
     "duration": 0.020908,
     "end_time": "2021-12-28T10:20:38.957235",
     "exception": false,
     "start_time": "2021-12-28T10:20:38.936327",
     "status": "completed"
    },
    "tags": []
   },
   "source": [
    "**Class 0 represents no disease and class 1 represents glaucoma**"
   ]
  },
  {
   "cell_type": "code",
   "execution_count": 4,
   "id": "86ae69db",
   "metadata": {
    "execution": {
     "iopub.execute_input": "2021-12-28T10:20:39.018707Z",
     "iopub.status.busy": "2021-12-28T10:20:39.004228Z",
     "iopub.status.idle": "2021-12-28T10:20:39.022412Z",
     "shell.execute_reply": "2021-12-28T10:20:39.022793Z",
     "shell.execute_reply.started": "2021-12-28T10:19:41.592776Z"
    },
    "papermill": {
     "duration": 0.044579,
     "end_time": "2021-12-28T10:20:39.022956",
     "exception": false,
     "start_time": "2021-12-28T10:20:38.978377",
     "status": "completed"
    },
    "tags": []
   },
   "outputs": [
    {
     "name": "stdout",
     "output_type": "stream",
     "text": [
      "<class 'pandas.core.frame.DataFrame'>\n",
      "RangeIndex: 196 entries, 0 to 195\n",
      "Data columns (total 63 columns):\n",
      " #   Column  Non-Null Count  Dtype  \n",
      "---  ------  --------------  -----  \n",
      " 0   ag      196 non-null    float64\n",
      " 1   at      196 non-null    float64\n",
      " 2   as      196 non-null    float64\n",
      " 3   an      196 non-null    float64\n",
      " 4   ai      196 non-null    float64\n",
      " 5   eag     196 non-null    float64\n",
      " 6   eat     196 non-null    float64\n",
      " 7   eas     196 non-null    float64\n",
      " 8   ean     196 non-null    float64\n",
      " 9   eai     196 non-null    float64\n",
      " 10  abrg    196 non-null    float64\n",
      " 11  abrt    196 non-null    float64\n",
      " 12  abrs    196 non-null    float64\n",
      " 13  abrn    196 non-null    float64\n",
      " 14  abri    196 non-null    float64\n",
      " 15  hic     196 non-null    float64\n",
      " 16  mhcg    196 non-null    float64\n",
      " 17  mhct    196 non-null    float64\n",
      " 18  mhcs    196 non-null    float64\n",
      " 19  mhcn    196 non-null    float64\n",
      " 20  mhci    196 non-null    float64\n",
      " 21  phcg    196 non-null    float64\n",
      " 22  phct    196 non-null    float64\n",
      " 23  phcs    196 non-null    float64\n",
      " 24  phcn    196 non-null    float64\n",
      " 25  phci    196 non-null    float64\n",
      " 26  hvc     196 non-null    float64\n",
      " 27  vbsg    196 non-null    float64\n",
      " 28  vbst    196 non-null    float64\n",
      " 29  vbss    196 non-null    float64\n",
      " 30  vbsn    196 non-null    float64\n",
      " 31  vbsi    196 non-null    float64\n",
      " 32  vasg    196 non-null    float64\n",
      " 33  vast    196 non-null    float64\n",
      " 34  vass    196 non-null    float64\n",
      " 35  vasn    196 non-null    float64\n",
      " 36  vasi    196 non-null    float64\n",
      " 37  vbrg    196 non-null    float64\n",
      " 38  vbrt    196 non-null    float64\n",
      " 39  vbrs    196 non-null    float64\n",
      " 40  vbrn    196 non-null    float64\n",
      " 41  vbri    196 non-null    float64\n",
      " 42  varg    196 non-null    float64\n",
      " 43  vart    196 non-null    float64\n",
      " 44  vars    196 non-null    float64\n",
      " 45  varn    196 non-null    float64\n",
      " 46  vari    196 non-null    float64\n",
      " 47  mdg     196 non-null    float64\n",
      " 48  mdt     196 non-null    float64\n",
      " 49  mds     196 non-null    float64\n",
      " 50  mdn     196 non-null    float64\n",
      " 51  mdi     196 non-null    float64\n",
      " 52  tmg     196 non-null    float64\n",
      " 53  tmt     196 non-null    float64\n",
      " 54  tms     196 non-null    float64\n",
      " 55  tmn     196 non-null    float64\n",
      " 56  tmi     196 non-null    float64\n",
      " 57  mr      196 non-null    float64\n",
      " 58  rnf     196 non-null    float64\n",
      " 59  mdic    196 non-null    float64\n",
      " 60  emd     196 non-null    float64\n",
      " 61  mv      196 non-null    float64\n",
      " 62  Class   196 non-null    int64  \n",
      "dtypes: float64(62), int64(1)\n",
      "memory usage: 96.6 KB\n"
     ]
    }
   ],
   "source": [
    "data.info()"
   ]
  },
  {
   "cell_type": "markdown",
   "id": "8fe5817c",
   "metadata": {
    "papermill": {
     "duration": 0.021244,
     "end_time": "2021-12-28T10:20:39.067294",
     "exception": false,
     "start_time": "2021-12-28T10:20:39.046050",
     "status": "completed"
    },
    "tags": []
   },
   "source": [
    "**There is no missing values and null values**"
   ]
  },
  {
   "cell_type": "code",
   "execution_count": 5,
   "id": "7f35024c",
   "metadata": {
    "execution": {
     "iopub.execute_input": "2021-12-28T10:20:39.141286Z",
     "iopub.status.busy": "2021-12-28T10:20:39.140412Z",
     "iopub.status.idle": "2021-12-28T10:20:39.312285Z",
     "shell.execute_reply": "2021-12-28T10:20:39.311654Z",
     "shell.execute_reply.started": "2021-12-28T10:19:41.643666Z"
    },
    "papermill": {
     "duration": 0.211755,
     "end_time": "2021-12-28T10:20:39.312433",
     "exception": false,
     "start_time": "2021-12-28T10:20:39.100678",
     "status": "completed"
    },
    "tags": []
   },
   "outputs": [
    {
     "data": {
      "text/html": [
       "<div>\n",
       "<style scoped>\n",
       "    .dataframe tbody tr th:only-of-type {\n",
       "        vertical-align: middle;\n",
       "    }\n",
       "\n",
       "    .dataframe tbody tr th {\n",
       "        vertical-align: top;\n",
       "    }\n",
       "\n",
       "    .dataframe thead th {\n",
       "        text-align: right;\n",
       "    }\n",
       "</style>\n",
       "<table border=\"1\" class=\"dataframe\">\n",
       "  <thead>\n",
       "    <tr style=\"text-align: right;\">\n",
       "      <th></th>\n",
       "      <th>ag</th>\n",
       "      <th>at</th>\n",
       "      <th>as</th>\n",
       "      <th>an</th>\n",
       "      <th>ai</th>\n",
       "      <th>eag</th>\n",
       "      <th>eat</th>\n",
       "      <th>eas</th>\n",
       "      <th>ean</th>\n",
       "      <th>eai</th>\n",
       "      <th>...</th>\n",
       "      <th>tmt</th>\n",
       "      <th>tms</th>\n",
       "      <th>tmn</th>\n",
       "      <th>tmi</th>\n",
       "      <th>mr</th>\n",
       "      <th>rnf</th>\n",
       "      <th>mdic</th>\n",
       "      <th>emd</th>\n",
       "      <th>mv</th>\n",
       "      <th>Class</th>\n",
       "    </tr>\n",
       "  </thead>\n",
       "  <tbody>\n",
       "    <tr>\n",
       "      <th>count</th>\n",
       "      <td>196.000000</td>\n",
       "      <td>196.000000</td>\n",
       "      <td>196.000000</td>\n",
       "      <td>196.000000</td>\n",
       "      <td>196.000000</td>\n",
       "      <td>196.000000</td>\n",
       "      <td>196.000000</td>\n",
       "      <td>196.000000</td>\n",
       "      <td>196.000000</td>\n",
       "      <td>196.000000</td>\n",
       "      <td>...</td>\n",
       "      <td>196.000000</td>\n",
       "      <td>196.000000</td>\n",
       "      <td>196.000000</td>\n",
       "      <td>196.000000</td>\n",
       "      <td>196.000000</td>\n",
       "      <td>196.000000</td>\n",
       "      <td>196.000000</td>\n",
       "      <td>196.000000</td>\n",
       "      <td>196.000000</td>\n",
       "      <td>196.00000</td>\n",
       "    </tr>\n",
       "    <tr>\n",
       "      <th>mean</th>\n",
       "      <td>2.606531</td>\n",
       "      <td>0.458980</td>\n",
       "      <td>0.651781</td>\n",
       "      <td>0.835929</td>\n",
       "      <td>0.659995</td>\n",
       "      <td>1.874138</td>\n",
       "      <td>0.406372</td>\n",
       "      <td>0.486403</td>\n",
       "      <td>0.501214</td>\n",
       "      <td>0.480097</td>\n",
       "      <td>...</td>\n",
       "      <td>-0.004658</td>\n",
       "      <td>-0.039806</td>\n",
       "      <td>-0.147204</td>\n",
       "      <td>-0.036510</td>\n",
       "      <td>0.904985</td>\n",
       "      <td>0.182383</td>\n",
       "      <td>0.231270</td>\n",
       "      <td>0.308903</td>\n",
       "      <td>0.033541</td>\n",
       "      <td>0.50000</td>\n",
       "    </tr>\n",
       "    <tr>\n",
       "      <th>std</th>\n",
       "      <td>0.659789</td>\n",
       "      <td>0.127013</td>\n",
       "      <td>0.158462</td>\n",
       "      <td>0.222166</td>\n",
       "      <td>0.161065</td>\n",
       "      <td>0.721218</td>\n",
       "      <td>0.125941</td>\n",
       "      <td>0.184486</td>\n",
       "      <td>0.286181</td>\n",
       "      <td>0.173977</td>\n",
       "      <td>...</td>\n",
       "      <td>0.128062</td>\n",
       "      <td>0.150077</td>\n",
       "      <td>0.134205</td>\n",
       "      <td>0.136423</td>\n",
       "      <td>0.112356</td>\n",
       "      <td>0.094080</td>\n",
       "      <td>0.123882</td>\n",
       "      <td>0.128246</td>\n",
       "      <td>0.021850</td>\n",
       "      <td>0.50128</td>\n",
       "    </tr>\n",
       "    <tr>\n",
       "      <th>min</th>\n",
       "      <td>1.312000</td>\n",
       "      <td>0.201000</td>\n",
       "      <td>0.345000</td>\n",
       "      <td>0.397000</td>\n",
       "      <td>0.369000</td>\n",
       "      <td>0.415000</td>\n",
       "      <td>0.137000</td>\n",
       "      <td>0.017000</td>\n",
       "      <td>0.008000</td>\n",
       "      <td>0.098000</td>\n",
       "      <td>...</td>\n",
       "      <td>-0.291000</td>\n",
       "      <td>-0.449000</td>\n",
       "      <td>-0.510000</td>\n",
       "      <td>-0.405000</td>\n",
       "      <td>0.647000</td>\n",
       "      <td>-0.297000</td>\n",
       "      <td>0.012000</td>\n",
       "      <td>0.047000</td>\n",
       "      <td>0.000000</td>\n",
       "      <td>0.00000</td>\n",
       "    </tr>\n",
       "    <tr>\n",
       "      <th>25%</th>\n",
       "      <td>2.139250</td>\n",
       "      <td>0.370750</td>\n",
       "      <td>0.538500</td>\n",
       "      <td>0.681000</td>\n",
       "      <td>0.550500</td>\n",
       "      <td>1.309250</td>\n",
       "      <td>0.315750</td>\n",
       "      <td>0.380750</td>\n",
       "      <td>0.280500</td>\n",
       "      <td>0.372500</td>\n",
       "      <td>...</td>\n",
       "      <td>-0.101000</td>\n",
       "      <td>-0.135250</td>\n",
       "      <td>-0.231000</td>\n",
       "      <td>-0.127500</td>\n",
       "      <td>0.826000</td>\n",
       "      <td>0.119750</td>\n",
       "      <td>0.144000</td>\n",
       "      <td>0.230500</td>\n",
       "      <td>0.021000</td>\n",
       "      <td>0.00000</td>\n",
       "    </tr>\n",
       "    <tr>\n",
       "      <th>50%</th>\n",
       "      <td>2.533000</td>\n",
       "      <td>0.444500</td>\n",
       "      <td>0.630500</td>\n",
       "      <td>0.808500</td>\n",
       "      <td>0.632000</td>\n",
       "      <td>1.843500</td>\n",
       "      <td>0.402500</td>\n",
       "      <td>0.468500</td>\n",
       "      <td>0.503500</td>\n",
       "      <td>0.484000</td>\n",
       "      <td>...</td>\n",
       "      <td>-0.018500</td>\n",
       "      <td>-0.031500</td>\n",
       "      <td>-0.146500</td>\n",
       "      <td>-0.036000</td>\n",
       "      <td>0.899500</td>\n",
       "      <td>0.182000</td>\n",
       "      <td>0.227000</td>\n",
       "      <td>0.298000</td>\n",
       "      <td>0.028000</td>\n",
       "      <td>0.50000</td>\n",
       "    </tr>\n",
       "    <tr>\n",
       "      <th>75%</th>\n",
       "      <td>2.943500</td>\n",
       "      <td>0.528000</td>\n",
       "      <td>0.738250</td>\n",
       "      <td>0.952000</td>\n",
       "      <td>0.749750</td>\n",
       "      <td>2.317000</td>\n",
       "      <td>0.483250</td>\n",
       "      <td>0.605500</td>\n",
       "      <td>0.689500</td>\n",
       "      <td>0.594750</td>\n",
       "      <td>...</td>\n",
       "      <td>0.087750</td>\n",
       "      <td>0.068000</td>\n",
       "      <td>-0.056250</td>\n",
       "      <td>0.049500</td>\n",
       "      <td>0.968500</td>\n",
       "      <td>0.237000</td>\n",
       "      <td>0.299250</td>\n",
       "      <td>0.379250</td>\n",
       "      <td>0.038250</td>\n",
       "      <td>1.00000</td>\n",
       "    </tr>\n",
       "    <tr>\n",
       "      <th>max</th>\n",
       "      <td>5.444000</td>\n",
       "      <td>0.967000</td>\n",
       "      <td>1.340000</td>\n",
       "      <td>1.765000</td>\n",
       "      <td>1.373000</td>\n",
       "      <td>4.125000</td>\n",
       "      <td>0.848000</td>\n",
       "      <td>1.225000</td>\n",
       "      <td>1.568000</td>\n",
       "      <td>0.961000</td>\n",
       "      <td>...</td>\n",
       "      <td>0.366000</td>\n",
       "      <td>0.358000</td>\n",
       "      <td>0.245000</td>\n",
       "      <td>0.418000</td>\n",
       "      <td>1.317000</td>\n",
       "      <td>0.451000</td>\n",
       "      <td>0.663000</td>\n",
       "      <td>0.743000</td>\n",
       "      <td>0.183000</td>\n",
       "      <td>1.00000</td>\n",
       "    </tr>\n",
       "  </tbody>\n",
       "</table>\n",
       "<p>8 rows × 63 columns</p>\n",
       "</div>"
      ],
      "text/plain": [
       "               ag          at          as          an          ai         eag  \\\n",
       "count  196.000000  196.000000  196.000000  196.000000  196.000000  196.000000   \n",
       "mean     2.606531    0.458980    0.651781    0.835929    0.659995    1.874138   \n",
       "std      0.659789    0.127013    0.158462    0.222166    0.161065    0.721218   \n",
       "min      1.312000    0.201000    0.345000    0.397000    0.369000    0.415000   \n",
       "25%      2.139250    0.370750    0.538500    0.681000    0.550500    1.309250   \n",
       "50%      2.533000    0.444500    0.630500    0.808500    0.632000    1.843500   \n",
       "75%      2.943500    0.528000    0.738250    0.952000    0.749750    2.317000   \n",
       "max      5.444000    0.967000    1.340000    1.765000    1.373000    4.125000   \n",
       "\n",
       "              eat         eas         ean         eai  ...         tmt  \\\n",
       "count  196.000000  196.000000  196.000000  196.000000  ...  196.000000   \n",
       "mean     0.406372    0.486403    0.501214    0.480097  ...   -0.004658   \n",
       "std      0.125941    0.184486    0.286181    0.173977  ...    0.128062   \n",
       "min      0.137000    0.017000    0.008000    0.098000  ...   -0.291000   \n",
       "25%      0.315750    0.380750    0.280500    0.372500  ...   -0.101000   \n",
       "50%      0.402500    0.468500    0.503500    0.484000  ...   -0.018500   \n",
       "75%      0.483250    0.605500    0.689500    0.594750  ...    0.087750   \n",
       "max      0.848000    1.225000    1.568000    0.961000  ...    0.366000   \n",
       "\n",
       "              tms         tmn         tmi          mr         rnf        mdic  \\\n",
       "count  196.000000  196.000000  196.000000  196.000000  196.000000  196.000000   \n",
       "mean    -0.039806   -0.147204   -0.036510    0.904985    0.182383    0.231270   \n",
       "std      0.150077    0.134205    0.136423    0.112356    0.094080    0.123882   \n",
       "min     -0.449000   -0.510000   -0.405000    0.647000   -0.297000    0.012000   \n",
       "25%     -0.135250   -0.231000   -0.127500    0.826000    0.119750    0.144000   \n",
       "50%     -0.031500   -0.146500   -0.036000    0.899500    0.182000    0.227000   \n",
       "75%      0.068000   -0.056250    0.049500    0.968500    0.237000    0.299250   \n",
       "max      0.358000    0.245000    0.418000    1.317000    0.451000    0.663000   \n",
       "\n",
       "              emd          mv      Class  \n",
       "count  196.000000  196.000000  196.00000  \n",
       "mean     0.308903    0.033541    0.50000  \n",
       "std      0.128246    0.021850    0.50128  \n",
       "min      0.047000    0.000000    0.00000  \n",
       "25%      0.230500    0.021000    0.00000  \n",
       "50%      0.298000    0.028000    0.50000  \n",
       "75%      0.379250    0.038250    1.00000  \n",
       "max      0.743000    0.183000    1.00000  \n",
       "\n",
       "[8 rows x 63 columns]"
      ]
     },
     "execution_count": 5,
     "metadata": {},
     "output_type": "execute_result"
    }
   ],
   "source": [
    "data.describe()"
   ]
  },
  {
   "cell_type": "code",
   "execution_count": 6,
   "id": "fb9908c3",
   "metadata": {
    "execution": {
     "iopub.execute_input": "2021-12-28T10:20:39.378196Z",
     "iopub.status.busy": "2021-12-28T10:20:39.377370Z",
     "iopub.status.idle": "2021-12-28T10:20:39.387519Z",
     "shell.execute_reply": "2021-12-28T10:20:39.386816Z",
     "shell.execute_reply.started": "2021-12-28T10:19:41.828578Z"
    },
    "papermill": {
     "duration": 0.052832,
     "end_time": "2021-12-28T10:20:39.387671",
     "exception": false,
     "start_time": "2021-12-28T10:20:39.334839",
     "status": "completed"
    },
    "tags": []
   },
   "outputs": [],
   "source": [
    "X=data.drop(\"Class\",axis=1) #Defining X\n",
    "Y=data[\"Class\"] # Defining Y"
   ]
  },
  {
   "cell_type": "code",
   "execution_count": 7,
   "id": "bbe31c01",
   "metadata": {
    "execution": {
     "iopub.execute_input": "2021-12-28T10:20:39.483079Z",
     "iopub.status.busy": "2021-12-28T10:20:39.482447Z",
     "iopub.status.idle": "2021-12-28T10:20:39.489052Z",
     "shell.execute_reply": "2021-12-28T10:20:39.488476Z",
     "shell.execute_reply.started": "2021-12-28T10:19:41.838155Z"
    },
    "papermill": {
     "duration": 0.063249,
     "end_time": "2021-12-28T10:20:39.489175",
     "exception": false,
     "start_time": "2021-12-28T10:20:39.425926",
     "status": "completed"
    },
    "tags": []
   },
   "outputs": [
    {
     "data": {
      "text/html": [
       "<div>\n",
       "<style scoped>\n",
       "    .dataframe tbody tr th:only-of-type {\n",
       "        vertical-align: middle;\n",
       "    }\n",
       "\n",
       "    .dataframe tbody tr th {\n",
       "        vertical-align: top;\n",
       "    }\n",
       "\n",
       "    .dataframe thead th {\n",
       "        text-align: right;\n",
       "    }\n",
       "</style>\n",
       "<table border=\"1\" class=\"dataframe\">\n",
       "  <thead>\n",
       "    <tr style=\"text-align: right;\">\n",
       "      <th></th>\n",
       "      <th>ag</th>\n",
       "      <th>at</th>\n",
       "      <th>as</th>\n",
       "      <th>an</th>\n",
       "      <th>ai</th>\n",
       "      <th>eag</th>\n",
       "      <th>eat</th>\n",
       "      <th>eas</th>\n",
       "      <th>ean</th>\n",
       "      <th>eai</th>\n",
       "      <th>...</th>\n",
       "      <th>tmg</th>\n",
       "      <th>tmt</th>\n",
       "      <th>tms</th>\n",
       "      <th>tmn</th>\n",
       "      <th>tmi</th>\n",
       "      <th>mr</th>\n",
       "      <th>rnf</th>\n",
       "      <th>mdic</th>\n",
       "      <th>emd</th>\n",
       "      <th>mv</th>\n",
       "    </tr>\n",
       "  </thead>\n",
       "  <tbody>\n",
       "    <tr>\n",
       "      <th>0</th>\n",
       "      <td>2.220</td>\n",
       "      <td>0.354</td>\n",
       "      <td>0.580</td>\n",
       "      <td>0.686</td>\n",
       "      <td>0.601</td>\n",
       "      <td>1.267</td>\n",
       "      <td>0.336</td>\n",
       "      <td>0.346</td>\n",
       "      <td>0.255</td>\n",
       "      <td>0.331</td>\n",
       "      <td>...</td>\n",
       "      <td>-0.236</td>\n",
       "      <td>-0.018</td>\n",
       "      <td>-0.230</td>\n",
       "      <td>-0.510</td>\n",
       "      <td>-0.158</td>\n",
       "      <td>0.841</td>\n",
       "      <td>0.410</td>\n",
       "      <td>0.137</td>\n",
       "      <td>0.239</td>\n",
       "      <td>0.035</td>\n",
       "    </tr>\n",
       "    <tr>\n",
       "      <th>1</th>\n",
       "      <td>2.681</td>\n",
       "      <td>0.475</td>\n",
       "      <td>0.672</td>\n",
       "      <td>0.868</td>\n",
       "      <td>0.667</td>\n",
       "      <td>2.053</td>\n",
       "      <td>0.440</td>\n",
       "      <td>0.520</td>\n",
       "      <td>0.639</td>\n",
       "      <td>0.454</td>\n",
       "      <td>...</td>\n",
       "      <td>-0.211</td>\n",
       "      <td>-0.014</td>\n",
       "      <td>-0.165</td>\n",
       "      <td>-0.317</td>\n",
       "      <td>-0.192</td>\n",
       "      <td>0.924</td>\n",
       "      <td>0.256</td>\n",
       "      <td>0.252</td>\n",
       "      <td>0.329</td>\n",
       "      <td>0.022</td>\n",
       "    </tr>\n",
       "    <tr>\n",
       "      <th>2</th>\n",
       "      <td>1.979</td>\n",
       "      <td>0.343</td>\n",
       "      <td>0.508</td>\n",
       "      <td>0.624</td>\n",
       "      <td>0.504</td>\n",
       "      <td>1.200</td>\n",
       "      <td>0.299</td>\n",
       "      <td>0.396</td>\n",
       "      <td>0.259</td>\n",
       "      <td>0.246</td>\n",
       "      <td>...</td>\n",
       "      <td>-0.185</td>\n",
       "      <td>-0.097</td>\n",
       "      <td>-0.235</td>\n",
       "      <td>-0.337</td>\n",
       "      <td>-0.020</td>\n",
       "      <td>0.795</td>\n",
       "      <td>0.378</td>\n",
       "      <td>0.152</td>\n",
       "      <td>0.250</td>\n",
       "      <td>0.029</td>\n",
       "    </tr>\n",
       "    <tr>\n",
       "      <th>3</th>\n",
       "      <td>1.747</td>\n",
       "      <td>0.269</td>\n",
       "      <td>0.476</td>\n",
       "      <td>0.525</td>\n",
       "      <td>0.476</td>\n",
       "      <td>0.612</td>\n",
       "      <td>0.147</td>\n",
       "      <td>0.017</td>\n",
       "      <td>0.044</td>\n",
       "      <td>0.405</td>\n",
       "      <td>...</td>\n",
       "      <td>-0.148</td>\n",
       "      <td>-0.035</td>\n",
       "      <td>-0.449</td>\n",
       "      <td>-0.217</td>\n",
       "      <td>-0.091</td>\n",
       "      <td>0.746</td>\n",
       "      <td>0.200</td>\n",
       "      <td>0.027</td>\n",
       "      <td>0.078</td>\n",
       "      <td>0.023</td>\n",
       "    </tr>\n",
       "    <tr>\n",
       "      <th>4</th>\n",
       "      <td>2.990</td>\n",
       "      <td>0.599</td>\n",
       "      <td>0.686</td>\n",
       "      <td>1.039</td>\n",
       "      <td>0.667</td>\n",
       "      <td>2.513</td>\n",
       "      <td>0.543</td>\n",
       "      <td>0.607</td>\n",
       "      <td>0.871</td>\n",
       "      <td>0.492</td>\n",
       "      <td>...</td>\n",
       "      <td>-0.052</td>\n",
       "      <td>-0.105</td>\n",
       "      <td>0.084</td>\n",
       "      <td>-0.012</td>\n",
       "      <td>-0.054</td>\n",
       "      <td>0.977</td>\n",
       "      <td>0.193</td>\n",
       "      <td>0.297</td>\n",
       "      <td>0.354</td>\n",
       "      <td>0.034</td>\n",
       "    </tr>\n",
       "  </tbody>\n",
       "</table>\n",
       "<p>5 rows × 62 columns</p>\n",
       "</div>"
      ],
      "text/plain": [
       "      ag     at     as     an     ai    eag    eat    eas    ean    eai  ...  \\\n",
       "0  2.220  0.354  0.580  0.686  0.601  1.267  0.336  0.346  0.255  0.331  ...   \n",
       "1  2.681  0.475  0.672  0.868  0.667  2.053  0.440  0.520  0.639  0.454  ...   \n",
       "2  1.979  0.343  0.508  0.624  0.504  1.200  0.299  0.396  0.259  0.246  ...   \n",
       "3  1.747  0.269  0.476  0.525  0.476  0.612  0.147  0.017  0.044  0.405  ...   \n",
       "4  2.990  0.599  0.686  1.039  0.667  2.513  0.543  0.607  0.871  0.492  ...   \n",
       "\n",
       "     tmg    tmt    tms    tmn    tmi     mr    rnf   mdic    emd     mv  \n",
       "0 -0.236 -0.018 -0.230 -0.510 -0.158  0.841  0.410  0.137  0.239  0.035  \n",
       "1 -0.211 -0.014 -0.165 -0.317 -0.192  0.924  0.256  0.252  0.329  0.022  \n",
       "2 -0.185 -0.097 -0.235 -0.337 -0.020  0.795  0.378  0.152  0.250  0.029  \n",
       "3 -0.148 -0.035 -0.449 -0.217 -0.091  0.746  0.200  0.027  0.078  0.023  \n",
       "4 -0.052 -0.105  0.084 -0.012 -0.054  0.977  0.193  0.297  0.354  0.034  \n",
       "\n",
       "[5 rows x 62 columns]"
      ]
     },
     "execution_count": 7,
     "metadata": {},
     "output_type": "execute_result"
    }
   ],
   "source": [
    "X.head() # first five values of X"
   ]
  },
  {
   "cell_type": "code",
   "execution_count": 8,
   "id": "0601e75b",
   "metadata": {
    "execution": {
     "iopub.execute_input": "2021-12-28T10:20:39.550275Z",
     "iopub.status.busy": "2021-12-28T10:20:39.549581Z",
     "iopub.status.idle": "2021-12-28T10:20:39.552380Z",
     "shell.execute_reply": "2021-12-28T10:20:39.552970Z",
     "shell.execute_reply.started": "2021-12-28T10:19:41.909157Z"
    },
    "papermill": {
     "duration": 0.035599,
     "end_time": "2021-12-28T10:20:39.553103",
     "exception": false,
     "start_time": "2021-12-28T10:20:39.517504",
     "status": "completed"
    },
    "tags": []
   },
   "outputs": [
    {
     "data": {
      "text/plain": [
       "0    0\n",
       "1    0\n",
       "2    0\n",
       "3    0\n",
       "4    0\n",
       "Name: Class, dtype: int64"
      ]
     },
     "execution_count": 8,
     "metadata": {},
     "output_type": "execute_result"
    }
   ],
   "source": [
    "Y.head() # first five values of Y"
   ]
  },
  {
   "cell_type": "code",
   "execution_count": 9,
   "id": "1c3da507",
   "metadata": {
    "execution": {
     "iopub.execute_input": "2021-12-28T10:20:39.606587Z",
     "iopub.status.busy": "2021-12-28T10:20:39.605787Z",
     "iopub.status.idle": "2021-12-28T10:20:39.626860Z",
     "shell.execute_reply": "2021-12-28T10:20:39.627766Z",
     "shell.execute_reply.started": "2021-12-28T10:19:41.927309Z"
    },
    "papermill": {
     "duration": 0.049279,
     "end_time": "2021-12-28T10:20:39.628001",
     "exception": false,
     "start_time": "2021-12-28T10:20:39.578722",
     "status": "completed"
    },
    "tags": []
   },
   "outputs": [],
   "source": [
    "pca = PCA(n_components=0.99)\n",
    "X = pca.fit_transform(X)"
   ]
  },
  {
   "cell_type": "markdown",
   "id": "f673d452",
   "metadata": {
    "papermill": {
     "duration": 0.041067,
     "end_time": "2021-12-28T10:20:39.710660",
     "exception": false,
     "start_time": "2021-12-28T10:20:39.669593",
     "status": "completed"
    },
    "tags": []
   },
   "source": [
    "# Splitting Training and test data"
   ]
  },
  {
   "cell_type": "code",
   "execution_count": 10,
   "id": "98b5eff4",
   "metadata": {
    "execution": {
     "iopub.execute_input": "2021-12-28T10:20:39.781483Z",
     "iopub.status.busy": "2021-12-28T10:20:39.780725Z",
     "iopub.status.idle": "2021-12-28T10:20:39.786533Z",
     "shell.execute_reply": "2021-12-28T10:20:39.786098Z",
     "shell.execute_reply.started": "2021-12-28T10:19:41.974322Z"
    },
    "papermill": {
     "duration": 0.034849,
     "end_time": "2021-12-28T10:20:39.786645",
     "exception": false,
     "start_time": "2021-12-28T10:20:39.751796",
     "status": "completed"
    },
    "tags": []
   },
   "outputs": [],
   "source": [
    "X_train, X_test, Y_train, Y_test= train_test_split(X,Y,test_size=0.2, stratify=Y,random_state=42)"
   ]
  },
  {
   "cell_type": "markdown",
   "id": "8fb19b02",
   "metadata": {
    "papermill": {
     "duration": 0.023976,
     "end_time": "2021-12-28T10:20:39.835398",
     "exception": false,
     "start_time": "2021-12-28T10:20:39.811422",
     "status": "completed"
    },
    "tags": []
   },
   "source": [
    "# Model training"
   ]
  },
  {
   "cell_type": "markdown",
   "id": "be84227a",
   "metadata": {
    "papermill": {
     "duration": 0.023702,
     "end_time": "2021-12-28T10:20:39.882012",
     "exception": false,
     "start_time": "2021-12-28T10:20:39.858310",
     "status": "completed"
    },
    "tags": []
   },
   "source": [
    "# LDA classifier"
   ]
  },
  {
   "cell_type": "code",
   "execution_count": 11,
   "id": "e17d008e",
   "metadata": {
    "execution": {
     "iopub.execute_input": "2021-12-28T10:20:39.935182Z",
     "iopub.status.busy": "2021-12-28T10:20:39.934334Z",
     "iopub.status.idle": "2021-12-28T10:20:39.939333Z",
     "shell.execute_reply": "2021-12-28T10:20:39.939726Z",
     "shell.execute_reply.started": "2021-12-28T10:19:41.994329Z"
    },
    "papermill": {
     "duration": 0.034554,
     "end_time": "2021-12-28T10:20:39.939837",
     "exception": false,
     "start_time": "2021-12-28T10:20:39.905283",
     "status": "completed"
    },
    "tags": []
   },
   "outputs": [
    {
     "data": {
      "text/plain": [
       "LinearDiscriminantAnalysis()"
      ]
     },
     "execution_count": 11,
     "metadata": {},
     "output_type": "execute_result"
    }
   ],
   "source": [
    "model=LinearDiscriminantAnalysis()\n",
    "model.fit(X_train,Y_train)"
   ]
  },
  {
   "cell_type": "code",
   "execution_count": 12,
   "id": "2dc99ffa",
   "metadata": {
    "execution": {
     "iopub.execute_input": "2021-12-28T10:20:39.997470Z",
     "iopub.status.busy": "2021-12-28T10:20:39.996087Z",
     "iopub.status.idle": "2021-12-28T10:20:40.002214Z",
     "shell.execute_reply": "2021-12-28T10:20:40.001498Z",
     "shell.execute_reply.started": "2021-12-28T10:19:42.027491Z"
    },
    "papermill": {
     "duration": 0.037944,
     "end_time": "2021-12-28T10:20:40.002370",
     "exception": false,
     "start_time": "2021-12-28T10:20:39.964426",
     "status": "completed"
    },
    "tags": []
   },
   "outputs": [
    {
     "name": "stdout",
     "output_type": "stream",
     "text": [
      "Accuracy of LDA =  0.75\n",
      "AUC score =  0.7525252525252525\n"
     ]
    }
   ],
   "source": [
    "##ACCURACY\n",
    "XtestPrediction=model.predict(X_test)\n",
    "testDataAccuracy=accuracy_score(XtestPrediction,Y_test)\n",
    "print(\"Accuracy of LDA = \",testDataAccuracy)\n",
    "AUC_score=roc_auc_score(XtestPrediction,Y_test)\n",
    "print(\"AUC score = \",AUC_score)\n"
   ]
  },
  {
   "cell_type": "markdown",
   "id": "c484a7b4",
   "metadata": {
    "papermill": {
     "duration": 0.023688,
     "end_time": "2021-12-28T10:20:40.053150",
     "exception": false,
     "start_time": "2021-12-28T10:20:40.029462",
     "status": "completed"
    },
    "tags": []
   },
   "source": [
    "# Naives Bayes classifier"
   ]
  },
  {
   "cell_type": "code",
   "execution_count": 13,
   "id": "244a8da9",
   "metadata": {
    "execution": {
     "iopub.execute_input": "2021-12-28T10:20:40.105966Z",
     "iopub.status.busy": "2021-12-28T10:20:40.105432Z",
     "iopub.status.idle": "2021-12-28T10:20:40.111461Z",
     "shell.execute_reply": "2021-12-28T10:20:40.111879Z",
     "shell.execute_reply.started": "2021-12-28T10:19:42.043972Z"
    },
    "papermill": {
     "duration": 0.033352,
     "end_time": "2021-12-28T10:20:40.112038",
     "exception": false,
     "start_time": "2021-12-28T10:20:40.078686",
     "status": "completed"
    },
    "tags": []
   },
   "outputs": [
    {
     "data": {
      "text/plain": [
       "GaussianNB()"
      ]
     },
     "execution_count": 13,
     "metadata": {},
     "output_type": "execute_result"
    }
   ],
   "source": [
    "model=GaussianNB()\n",
    "model.fit(X_train,Y_train)"
   ]
  },
  {
   "cell_type": "code",
   "execution_count": 14,
   "id": "7f01f4e2",
   "metadata": {
    "execution": {
     "iopub.execute_input": "2021-12-28T10:20:40.168578Z",
     "iopub.status.busy": "2021-12-28T10:20:40.167627Z",
     "iopub.status.idle": "2021-12-28T10:20:40.174160Z",
     "shell.execute_reply": "2021-12-28T10:20:40.174797Z",
     "shell.execute_reply.started": "2021-12-28T10:19:42.062003Z"
    },
    "papermill": {
     "duration": 0.037719,
     "end_time": "2021-12-28T10:20:40.174987",
     "exception": false,
     "start_time": "2021-12-28T10:20:40.137268",
     "status": "completed"
    },
    "tags": []
   },
   "outputs": [
    {
     "name": "stdout",
     "output_type": "stream",
     "text": [
      "Accuracy of Naives Bayes classifier =  0.8\n",
      "AUC score =  0.8125\n"
     ]
    }
   ],
   "source": [
    "##ACCURACY\n",
    "XtestPrediction=model.predict(X_test)\n",
    "testDataAccuracy=accuracy_score(XtestPrediction,Y_test)\n",
    "print(\"Accuracy of Naives Bayes classifier = \",testDataAccuracy)\n",
    "AUC_score=roc_auc_score(XtestPrediction,Y_test)\n",
    "print(\"AUC score = \",AUC_score)\n"
   ]
  },
  {
   "cell_type": "markdown",
   "id": "a8e8dee6",
   "metadata": {
    "papermill": {
     "duration": 0.024554,
     "end_time": "2021-12-28T10:20:40.226937",
     "exception": false,
     "start_time": "2021-12-28T10:20:40.202383",
     "status": "completed"
    },
    "tags": []
   },
   "source": [
    "# SVM Classifier"
   ]
  },
  {
   "cell_type": "code",
   "execution_count": 15,
   "id": "861449a2",
   "metadata": {
    "execution": {
     "iopub.execute_input": "2021-12-28T10:20:40.279926Z",
     "iopub.status.busy": "2021-12-28T10:20:40.279163Z",
     "iopub.status.idle": "2021-12-28T10:20:40.284853Z",
     "shell.execute_reply": "2021-12-28T10:20:40.284426Z",
     "shell.execute_reply.started": "2021-12-28T10:19:42.083067Z"
    },
    "papermill": {
     "duration": 0.033649,
     "end_time": "2021-12-28T10:20:40.284978",
     "exception": false,
     "start_time": "2021-12-28T10:20:40.251329",
     "status": "completed"
    },
    "tags": []
   },
   "outputs": [
    {
     "data": {
      "text/plain": [
       "SVC()"
      ]
     },
     "execution_count": 15,
     "metadata": {},
     "output_type": "execute_result"
    }
   ],
   "source": [
    "from sklearn import svm\n",
    "model=svm.SVC()\n",
    "model.fit(X_train,Y_train)"
   ]
  },
  {
   "cell_type": "code",
   "execution_count": 16,
   "id": "4cb23430",
   "metadata": {
    "execution": {
     "iopub.execute_input": "2021-12-28T10:20:40.337632Z",
     "iopub.status.busy": "2021-12-28T10:20:40.336816Z",
     "iopub.status.idle": "2021-12-28T10:20:40.342417Z",
     "shell.execute_reply": "2021-12-28T10:20:40.343113Z",
     "shell.execute_reply.started": "2021-12-28T10:19:42.098836Z"
    },
    "papermill": {
     "duration": 0.034224,
     "end_time": "2021-12-28T10:20:40.343268",
     "exception": false,
     "start_time": "2021-12-28T10:20:40.309044",
     "status": "completed"
    },
    "tags": []
   },
   "outputs": [
    {
     "name": "stdout",
     "output_type": "stream",
     "text": [
      "Accuracy of SVC =  0.825\n",
      "AUC score =  0.8258145363408521\n"
     ]
    }
   ],
   "source": [
    "##ACCURACY\n",
    "XtestPrediction=model.predict(X_test)\n",
    "testDataAccuracy=accuracy_score(XtestPrediction,Y_test)\n",
    "print(\"Accuracy of SVC = \",testDataAccuracy)\n",
    "AUC_score=roc_auc_score(XtestPrediction,Y_test)\n",
    "print(\"AUC score = \",AUC_score)"
   ]
  },
  {
   "cell_type": "markdown",
   "id": "3e126319",
   "metadata": {
    "papermill": {
     "duration": 0.026698,
     "end_time": "2021-12-28T10:20:40.396267",
     "exception": false,
     "start_time": "2021-12-28T10:20:40.369569",
     "status": "completed"
    },
    "tags": []
   },
   "source": [
    "# Building an Artificial Neural Network "
   ]
  },
  {
   "cell_type": "code",
   "execution_count": 17,
   "id": "962e8dcc",
   "metadata": {
    "execution": {
     "iopub.execute_input": "2021-12-28T10:20:40.451504Z",
     "iopub.status.busy": "2021-12-28T10:20:40.450549Z",
     "iopub.status.idle": "2021-12-28T10:20:40.454219Z",
     "shell.execute_reply": "2021-12-28T10:20:40.453700Z",
     "shell.execute_reply.started": "2021-12-28T10:19:42.114833Z"
    },
    "papermill": {
     "duration": 0.032058,
     "end_time": "2021-12-28T10:20:40.454328",
     "exception": false,
     "start_time": "2021-12-28T10:20:40.422270",
     "status": "completed"
    },
    "tags": []
   },
   "outputs": [],
   "source": [
    "pca = PCA(n_components=0.95)\n",
    "X = pca.fit_transform(X)"
   ]
  },
  {
   "cell_type": "code",
   "execution_count": 18,
   "id": "7fd0c4c5",
   "metadata": {
    "execution": {
     "iopub.execute_input": "2021-12-28T10:20:40.508608Z",
     "iopub.status.busy": "2021-12-28T10:20:40.507834Z",
     "iopub.status.idle": "2021-12-28T10:20:40.510720Z",
     "shell.execute_reply": "2021-12-28T10:20:40.511117Z",
     "shell.execute_reply.started": "2021-12-28T10:19:42.127675Z"
    },
    "papermill": {
     "duration": 0.031856,
     "end_time": "2021-12-28T10:20:40.511236",
     "exception": false,
     "start_time": "2021-12-28T10:20:40.479380",
     "status": "completed"
    },
    "tags": []
   },
   "outputs": [],
   "source": [
    "X_train, X_test, Y_train,Y_test=train_test_split(X,Y,test_size=0.2)"
   ]
  },
  {
   "cell_type": "code",
   "execution_count": 19,
   "id": "e3d258f2",
   "metadata": {
    "execution": {
     "iopub.execute_input": "2021-12-28T10:20:40.565409Z",
     "iopub.status.busy": "2021-12-28T10:20:40.564802Z",
     "iopub.status.idle": "2021-12-28T10:20:44.879644Z",
     "shell.execute_reply": "2021-12-28T10:20:44.879170Z",
     "shell.execute_reply.started": "2021-12-28T10:19:42.138665Z"
    },
    "papermill": {
     "duration": 4.343246,
     "end_time": "2021-12-28T10:20:44.879774",
     "exception": false,
     "start_time": "2021-12-28T10:20:40.536528",
     "status": "completed"
    },
    "tags": []
   },
   "outputs": [
    {
     "name": "stderr",
     "output_type": "stream",
     "text": [
      "2021-12-28 10:20:41.093526: I tensorflow/stream_executor/platform/default/dso_loader.cc:49] Successfully opened dynamic library libcudart.so.11.0\n"
     ]
    }
   ],
   "source": [
    "from tensorflow.keras.models import Sequential, load_model\n",
    "from tensorflow.keras.layers import Dense"
   ]
  },
  {
   "cell_type": "code",
   "execution_count": 20,
   "id": "dda9c1b0",
   "metadata": {
    "execution": {
     "iopub.execute_input": "2021-12-28T10:20:44.935707Z",
     "iopub.status.busy": "2021-12-28T10:20:44.934956Z",
     "iopub.status.idle": "2021-12-28T10:20:44.937075Z",
     "shell.execute_reply": "2021-12-28T10:20:44.937448Z",
     "shell.execute_reply.started": "2021-12-28T10:19:47.639824Z"
    },
    "papermill": {
     "duration": 0.032136,
     "end_time": "2021-12-28T10:20:44.937582",
     "exception": false,
     "start_time": "2021-12-28T10:20:44.905446",
     "status": "completed"
    },
    "tags": []
   },
   "outputs": [],
   "source": [
    "X_train=pd.DataFrame(X_train)"
   ]
  },
  {
   "cell_type": "code",
   "execution_count": 21,
   "id": "71e4e6c8",
   "metadata": {
    "execution": {
     "iopub.execute_input": "2021-12-28T10:20:44.994313Z",
     "iopub.status.busy": "2021-12-28T10:20:44.993617Z",
     "iopub.status.idle": "2021-12-28T10:20:46.912095Z",
     "shell.execute_reply": "2021-12-28T10:20:46.911586Z",
     "shell.execute_reply.started": "2021-12-28T10:19:47.649477Z"
    },
    "papermill": {
     "duration": 1.948239,
     "end_time": "2021-12-28T10:20:46.912231",
     "exception": false,
     "start_time": "2021-12-28T10:20:44.963992",
     "status": "completed"
    },
    "tags": []
   },
   "outputs": [
    {
     "name": "stderr",
     "output_type": "stream",
     "text": [
      "2021-12-28 10:20:45.003504: I tensorflow/compiler/jit/xla_cpu_device.cc:41] Not creating XLA devices, tf_xla_enable_xla_devices not set\n",
      "2021-12-28 10:20:45.006900: I tensorflow/stream_executor/platform/default/dso_loader.cc:49] Successfully opened dynamic library libcuda.so.1\n",
      "2021-12-28 10:20:45.047964: I tensorflow/stream_executor/cuda/cuda_gpu_executor.cc:941] successful NUMA node read from SysFS had negative value (-1), but there must be at least one NUMA node, so returning NUMA node zero\n",
      "2021-12-28 10:20:45.048599: I tensorflow/core/common_runtime/gpu/gpu_device.cc:1720] Found device 0 with properties: \n",
      "pciBusID: 0000:00:04.0 name: Tesla P100-PCIE-16GB computeCapability: 6.0\n",
      "coreClock: 1.3285GHz coreCount: 56 deviceMemorySize: 15.90GiB deviceMemoryBandwidth: 681.88GiB/s\n",
      "2021-12-28 10:20:45.048655: I tensorflow/stream_executor/platform/default/dso_loader.cc:49] Successfully opened dynamic library libcudart.so.11.0\n",
      "2021-12-28 10:20:45.074769: I tensorflow/stream_executor/platform/default/dso_loader.cc:49] Successfully opened dynamic library libcublas.so.11\n",
      "2021-12-28 10:20:45.074860: I tensorflow/stream_executor/platform/default/dso_loader.cc:49] Successfully opened dynamic library libcublasLt.so.11\n",
      "2021-12-28 10:20:45.090522: I tensorflow/stream_executor/platform/default/dso_loader.cc:49] Successfully opened dynamic library libcufft.so.10\n",
      "2021-12-28 10:20:45.099530: I tensorflow/stream_executor/platform/default/dso_loader.cc:49] Successfully opened dynamic library libcurand.so.10\n",
      "2021-12-28 10:20:45.124958: I tensorflow/stream_executor/platform/default/dso_loader.cc:49] Successfully opened dynamic library libcusolver.so.10\n",
      "2021-12-28 10:20:45.132643: I tensorflow/stream_executor/platform/default/dso_loader.cc:49] Successfully opened dynamic library libcusparse.so.11\n",
      "2021-12-28 10:20:45.136885: I tensorflow/stream_executor/platform/default/dso_loader.cc:49] Successfully opened dynamic library libcudnn.so.8\n",
      "2021-12-28 10:20:45.137074: I tensorflow/stream_executor/cuda/cuda_gpu_executor.cc:941] successful NUMA node read from SysFS had negative value (-1), but there must be at least one NUMA node, so returning NUMA node zero\n",
      "2021-12-28 10:20:45.137767: I tensorflow/stream_executor/cuda/cuda_gpu_executor.cc:941] successful NUMA node read from SysFS had negative value (-1), but there must be at least one NUMA node, so returning NUMA node zero\n",
      "2021-12-28 10:20:45.139864: I tensorflow/core/common_runtime/gpu/gpu_device.cc:1862] Adding visible gpu devices: 0\n",
      "2021-12-28 10:20:45.140934: I tensorflow/core/platform/cpu_feature_guard.cc:142] This TensorFlow binary is optimized with oneAPI Deep Neural Network Library (oneDNN) to use the following CPU instructions in performance-critical operations:  AVX2 AVX512F FMA\n",
      "To enable them in other operations, rebuild TensorFlow with the appropriate compiler flags.\n",
      "2021-12-28 10:20:45.141179: I tensorflow/compiler/jit/xla_gpu_device.cc:99] Not creating XLA devices, tf_xla_enable_xla_devices not set\n",
      "2021-12-28 10:20:45.141351: I tensorflow/stream_executor/cuda/cuda_gpu_executor.cc:941] successful NUMA node read from SysFS had negative value (-1), but there must be at least one NUMA node, so returning NUMA node zero\n",
      "2021-12-28 10:20:45.141959: I tensorflow/core/common_runtime/gpu/gpu_device.cc:1720] Found device 0 with properties: \n",
      "pciBusID: 0000:00:04.0 name: Tesla P100-PCIE-16GB computeCapability: 6.0\n",
      "coreClock: 1.3285GHz coreCount: 56 deviceMemorySize: 15.90GiB deviceMemoryBandwidth: 681.88GiB/s\n",
      "2021-12-28 10:20:45.142014: I tensorflow/stream_executor/platform/default/dso_loader.cc:49] Successfully opened dynamic library libcudart.so.11.0\n",
      "2021-12-28 10:20:45.142045: I tensorflow/stream_executor/platform/default/dso_loader.cc:49] Successfully opened dynamic library libcublas.so.11\n",
      "2021-12-28 10:20:45.142069: I tensorflow/stream_executor/platform/default/dso_loader.cc:49] Successfully opened dynamic library libcublasLt.so.11\n",
      "2021-12-28 10:20:45.142092: I tensorflow/stream_executor/platform/default/dso_loader.cc:49] Successfully opened dynamic library libcufft.so.10\n",
      "2021-12-28 10:20:45.142115: I tensorflow/stream_executor/platform/default/dso_loader.cc:49] Successfully opened dynamic library libcurand.so.10\n",
      "2021-12-28 10:20:45.142138: I tensorflow/stream_executor/platform/default/dso_loader.cc:49] Successfully opened dynamic library libcusolver.so.10\n",
      "2021-12-28 10:20:45.142169: I tensorflow/stream_executor/platform/default/dso_loader.cc:49] Successfully opened dynamic library libcusparse.so.11\n",
      "2021-12-28 10:20:45.142204: I tensorflow/stream_executor/platform/default/dso_loader.cc:49] Successfully opened dynamic library libcudnn.so.8\n",
      "2021-12-28 10:20:45.142295: I tensorflow/stream_executor/cuda/cuda_gpu_executor.cc:941] successful NUMA node read from SysFS had negative value (-1), but there must be at least one NUMA node, so returning NUMA node zero\n",
      "2021-12-28 10:20:45.143072: I tensorflow/stream_executor/cuda/cuda_gpu_executor.cc:941] successful NUMA node read from SysFS had negative value (-1), but there must be at least one NUMA node, so returning NUMA node zero\n",
      "2021-12-28 10:20:45.143637: I tensorflow/core/common_runtime/gpu/gpu_device.cc:1862] Adding visible gpu devices: 0\n",
      "2021-12-28 10:20:45.144859: I tensorflow/stream_executor/platform/default/dso_loader.cc:49] Successfully opened dynamic library libcudart.so.11.0\n",
      "2021-12-28 10:20:46.568157: I tensorflow/core/common_runtime/gpu/gpu_device.cc:1261] Device interconnect StreamExecutor with strength 1 edge matrix:\n",
      "2021-12-28 10:20:46.568222: I tensorflow/core/common_runtime/gpu/gpu_device.cc:1267]      0 \n",
      "2021-12-28 10:20:46.568239: I tensorflow/core/common_runtime/gpu/gpu_device.cc:1280] 0:   N \n",
      "2021-12-28 10:20:46.570685: I tensorflow/stream_executor/cuda/cuda_gpu_executor.cc:941] successful NUMA node read from SysFS had negative value (-1), but there must be at least one NUMA node, so returning NUMA node zero\n",
      "2021-12-28 10:20:46.571462: I tensorflow/stream_executor/cuda/cuda_gpu_executor.cc:941] successful NUMA node read from SysFS had negative value (-1), but there must be at least one NUMA node, so returning NUMA node zero\n",
      "2021-12-28 10:20:46.572157: I tensorflow/stream_executor/cuda/cuda_gpu_executor.cc:941] successful NUMA node read from SysFS had negative value (-1), but there must be at least one NUMA node, so returning NUMA node zero\n",
      "2021-12-28 10:20:46.572797: I tensorflow/core/common_runtime/gpu/gpu_device.cc:1406] Created TensorFlow device (/job:localhost/replica:0/task:0/device:GPU:0 with 14957 MB memory) -> physical GPU (device: 0, name: Tesla P100-PCIE-16GB, pci bus id: 0000:00:04.0, compute capability: 6.0)\n"
     ]
    }
   ],
   "source": [
    "model=Sequential()\n",
    "model.add(Dense(units=1500, activation='relu',input_dim=len(X_train.columns)))\n",
    "model.add(Dense(units=1,activation='sigmoid'))"
   ]
  },
  {
   "cell_type": "code",
   "execution_count": 22,
   "id": "c03574c3",
   "metadata": {
    "execution": {
     "iopub.execute_input": "2021-12-28T10:20:46.977227Z",
     "iopub.status.busy": "2021-12-28T10:20:46.976311Z",
     "iopub.status.idle": "2021-12-28T10:20:46.982774Z",
     "shell.execute_reply": "2021-12-28T10:20:46.982253Z",
     "shell.execute_reply.started": "2021-12-28T10:19:50.078139Z"
    },
    "papermill": {
     "duration": 0.045292,
     "end_time": "2021-12-28T10:20:46.982907",
     "exception": false,
     "start_time": "2021-12-28T10:20:46.937615",
     "status": "completed"
    },
    "tags": []
   },
   "outputs": [],
   "source": [
    "model.compile(loss='binary_crossentropy',optimizer='adam', metrics='accuracy')"
   ]
  },
  {
   "cell_type": "code",
   "execution_count": 23,
   "id": "85d553c6",
   "metadata": {
    "execution": {
     "iopub.execute_input": "2021-12-28T10:20:47.042353Z",
     "iopub.status.busy": "2021-12-28T10:20:47.041741Z",
     "iopub.status.idle": "2021-12-28T10:20:48.799974Z",
     "shell.execute_reply": "2021-12-28T10:20:48.799502Z",
     "shell.execute_reply.started": "2021-12-28T10:19:50.099721Z"
    },
    "papermill": {
     "duration": 1.788926,
     "end_time": "2021-12-28T10:20:48.800101",
     "exception": false,
     "start_time": "2021-12-28T10:20:47.011175",
     "status": "completed"
    },
    "tags": []
   },
   "outputs": [
    {
     "name": "stderr",
     "output_type": "stream",
     "text": [
      "2021-12-28 10:20:47.105265: I tensorflow/compiler/mlir/mlir_graph_optimization_pass.cc:116] None of the MLIR optimization passes are enabled (registered 2)\n",
      "2021-12-28 10:20:47.116226: I tensorflow/core/platform/profile_utils/cpu_utils.cc:112] CPU Frequency: 2000175000 Hz\n"
     ]
    },
    {
     "name": "stdout",
     "output_type": "stream",
     "text": [
      "Epoch 1/20\n"
     ]
    },
    {
     "name": "stderr",
     "output_type": "stream",
     "text": [
      "2021-12-28 10:20:47.671131: I tensorflow/stream_executor/platform/default/dso_loader.cc:49] Successfully opened dynamic library libcublas.so.11\n"
     ]
    },
    {
     "name": "stdout",
     "output_type": "stream",
     "text": [
      "5/5 [==============================] - 1s 3ms/step - loss: 0.6785 - accuracy: 0.5964\n",
      "Epoch 2/20\n",
      "5/5 [==============================] - 0s 2ms/step - loss: 0.6122 - accuracy: 0.7400\n",
      "Epoch 3/20\n",
      "5/5 [==============================] - 0s 2ms/step - loss: 0.5589 - accuracy: 0.7517\n",
      "Epoch 4/20\n",
      "5/5 [==============================] - 0s 2ms/step - loss: 0.5142 - accuracy: 0.8404\n",
      "Epoch 5/20\n",
      "5/5 [==============================] - 0s 2ms/step - loss: 0.5021 - accuracy: 0.8220\n",
      "Epoch 6/20\n",
      "5/5 [==============================] - 0s 2ms/step - loss: 0.4696 - accuracy: 0.8401\n",
      "Epoch 7/20\n",
      "5/5 [==============================] - 0s 3ms/step - loss: 0.4224 - accuracy: 0.8692\n",
      "Epoch 8/20\n",
      "5/5 [==============================] - 0s 3ms/step - loss: 0.3797 - accuracy: 0.8796\n",
      "Epoch 9/20\n",
      "1/5 [=====>........................] - ETA: 0s - loss: 0.2951 - accuracy: 0.9688"
     ]
    },
    {
     "name": "stderr",
     "output_type": "stream",
     "text": [
      "2021-12-28 10:20:48.425370: I tensorflow/stream_executor/platform/default/dso_loader.cc:49] Successfully opened dynamic library libcublasLt.so.11\n"
     ]
    },
    {
     "name": "stdout",
     "output_type": "stream",
     "text": [
      "5/5 [==============================] - 0s 2ms/step - loss: 0.3658 - accuracy: 0.8784\n",
      "Epoch 10/20\n",
      "5/5 [==============================] - 0s 2ms/step - loss: 0.3807 - accuracy: 0.8476\n",
      "Epoch 11/20\n",
      "5/5 [==============================] - 0s 2ms/step - loss: 0.3650 - accuracy: 0.8372\n",
      "Epoch 12/20\n",
      "5/5 [==============================] - 0s 2ms/step - loss: 0.3709 - accuracy: 0.8414\n",
      "Epoch 13/20\n",
      "5/5 [==============================] - 0s 2ms/step - loss: 0.3142 - accuracy: 0.8666\n",
      "Epoch 14/20\n",
      "5/5 [==============================] - 0s 2ms/step - loss: 0.3364 - accuracy: 0.8761\n",
      "Epoch 15/20\n",
      "5/5 [==============================] - 0s 2ms/step - loss: 0.3365 - accuracy: 0.8709\n",
      "Epoch 16/20\n",
      "5/5 [==============================] - 0s 2ms/step - loss: 0.3118 - accuracy: 0.8921\n",
      "Epoch 17/20\n",
      "5/5 [==============================] - 0s 2ms/step - loss: 0.3069 - accuracy: 0.8887\n",
      "Epoch 18/20\n",
      "5/5 [==============================] - 0s 2ms/step - loss: 0.3125 - accuracy: 0.8661\n",
      "Epoch 19/20\n",
      "5/5 [==============================] - 0s 2ms/step - loss: 0.2917 - accuracy: 0.8904\n",
      "Epoch 20/20\n",
      "5/5 [==============================] - 0s 2ms/step - loss: 0.3434 - accuracy: 0.8782\n"
     ]
    },
    {
     "data": {
      "text/plain": [
       "<tensorflow.python.keras.callbacks.History at 0x7f9b54039b50>"
      ]
     },
     "execution_count": 23,
     "metadata": {},
     "output_type": "execute_result"
    }
   ],
   "source": [
    "model.fit(X_train,Y_train,epochs=20, batch_size=32)"
   ]
  },
  {
   "cell_type": "markdown",
   "id": "3862f118",
   "metadata": {
    "papermill": {
     "duration": 0.037158,
     "end_time": "2021-12-28T10:20:48.875293",
     "exception": false,
     "start_time": "2021-12-28T10:20:48.838135",
     "status": "completed"
    },
    "tags": []
   },
   "source": [
    "**Accuracy of ANN Classifier**"
   ]
  },
  {
   "cell_type": "code",
   "execution_count": 24,
   "id": "738ef6d3",
   "metadata": {
    "execution": {
     "iopub.execute_input": "2021-12-28T10:20:48.954611Z",
     "iopub.status.busy": "2021-12-28T10:20:48.953746Z",
     "iopub.status.idle": "2021-12-28T10:20:49.054434Z",
     "shell.execute_reply": "2021-12-28T10:20:49.054900Z",
     "shell.execute_reply.started": "2021-12-28T10:19:52.349129Z"
    },
    "papermill": {
     "duration": 0.143256,
     "end_time": "2021-12-28T10:20:49.055045",
     "exception": false,
     "start_time": "2021-12-28T10:20:48.911789",
     "status": "completed"
    },
    "tags": []
   },
   "outputs": [
    {
     "data": {
      "text/plain": [
       "0.8846153846153846"
      ]
     },
     "execution_count": 24,
     "metadata": {},
     "output_type": "execute_result"
    }
   ],
   "source": [
    "#Train data accuracy\n",
    "y_TrainAccuracy = model.predict(X_train)\n",
    "y_TrainAccuracy = [0 if val < 0.5 else 1 for val in y_TrainAccuracy]\n",
    "accuracy_score(Y_train, y_TrainAccuracy)"
   ]
  },
  {
   "cell_type": "code",
   "execution_count": 25,
   "id": "c7eccba8",
   "metadata": {
    "execution": {
     "iopub.execute_input": "2021-12-28T10:20:49.151474Z",
     "iopub.status.busy": "2021-12-28T10:20:49.150644Z",
     "iopub.status.idle": "2021-12-28T10:20:49.206956Z",
     "shell.execute_reply": "2021-12-28T10:20:49.207576Z",
     "shell.execute_reply.started": "2021-12-28T10:19:52.482704Z"
    },
    "papermill": {
     "duration": 0.10327,
     "end_time": "2021-12-28T10:20:49.207755",
     "exception": false,
     "start_time": "2021-12-28T10:20:49.104485",
     "status": "completed"
    },
    "tags": []
   },
   "outputs": [
    {
     "name": "stdout",
     "output_type": "stream",
     "text": [
      "Accuracy =  0.8\n",
      "AUC score =  0.8\n"
     ]
    }
   ],
   "source": [
    "#Test Data accuracy\n",
    "y_TestAccuracy = model.predict(X_test)\n",
    "y_TestAccuracy = [0 if val < 0.5 else 1 for val in y_TestAccuracy]\n",
    "acc_score= accuracy_score(Y_test, y_TestAccuracy)\n",
    "print(\"Accuracy = \",acc_score)\n",
    "AUC_score=roc_auc_score(y_TestAccuracy,Y_test)\n",
    "print(\"AUC score = \",AUC_score)"
   ]
  }
 ],
 "metadata": {
  "kernelspec": {
   "display_name": "Python 3",
   "language": "python",
   "name": "python3"
  },
  "language_info": {
   "codemirror_mode": {
    "name": "ipython",
    "version": 3
   },
   "file_extension": ".py",
   "mimetype": "text/x-python",
   "name": "python",
   "nbconvert_exporter": "python",
   "pygments_lexer": "ipython3",
   "version": "3.7.10"
  },
  "papermill": {
   "default_parameters": {},
   "duration": 20.594934,
   "end_time": "2021-12-28T10:20:52.145865",
   "environment_variables": {},
   "exception": null,
   "input_path": "__notebook__.ipynb",
   "output_path": "__notebook__.ipynb",
   "parameters": {},
   "start_time": "2021-12-28T10:20:31.550931",
   "version": "2.3.3"
  }
 },
 "nbformat": 4,
 "nbformat_minor": 5
}
