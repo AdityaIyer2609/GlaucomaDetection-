{
 "cells": [
  {
   "cell_type": "code",
   "execution_count": 1,
   "id": "008ce134",
   "metadata": {
    "_cell_guid": "b1076dfc-b9ad-4769-8c92-a6c4dae69d19",
    "_uuid": "8f2839f25d086af736a60e9eeb907d3b93b6e0e5",
    "execution": {
     "iopub.execute_input": "2021-11-27T06:49:37.550687Z",
     "iopub.status.busy": "2021-11-27T06:49:37.549490Z",
     "iopub.status.idle": "2021-11-27T06:49:38.672195Z",
     "shell.execute_reply": "2021-11-27T06:49:38.673054Z",
     "shell.execute_reply.started": "2021-11-27T06:28:47.867246Z"
    },
    "papermill": {
     "duration": 1.152946,
     "end_time": "2021-11-27T06:49:38.673476",
     "exception": false,
     "start_time": "2021-11-27T06:49:37.520530",
     "status": "completed"
    },
    "tags": []
   },
   "outputs": [],
   "source": [
    "import pandas as pd\n",
    "import numpy as np\n",
    "from sklearn.model_selection import train_test_split  \n",
    "from sklearn.metrics import accuracy_score\n",
    "from sklearn.metrics import roc_auc_score\n",
    "from sklearn.svm import LinearSVC\n",
    "from sklearn.naive_bayes import GaussianNB  \n",
    "from sklearn.discriminant_analysis import LinearDiscriminantAnalysis"
   ]
  },
  {
   "cell_type": "code",
   "execution_count": 2,
   "id": "bf8e9608",
   "metadata": {
    "execution": {
     "iopub.execute_input": "2021-11-27T06:49:38.731815Z",
     "iopub.status.busy": "2021-11-27T06:49:38.731140Z",
     "iopub.status.idle": "2021-11-27T06:49:38.774418Z",
     "shell.execute_reply": "2021-11-27T06:49:38.775261Z",
     "shell.execute_reply.started": "2021-11-27T06:28:47.994312Z"
    },
    "papermill": {
     "duration": 0.071272,
     "end_time": "2021-11-27T06:49:38.775689",
     "exception": false,
     "start_time": "2021-11-27T06:49:38.704417",
     "status": "completed"
    },
    "tags": []
   },
   "outputs": [],
   "source": [
    "data=pd.read_csv('../input/glaucoma/glaucoma.csv')"
   ]
  },
  {
   "cell_type": "code",
   "execution_count": 3,
   "id": "825926bf",
   "metadata": {
    "execution": {
     "iopub.execute_input": "2021-11-27T06:49:38.827708Z",
     "iopub.status.busy": "2021-11-27T06:49:38.827067Z",
     "iopub.status.idle": "2021-11-27T06:49:38.874649Z",
     "shell.execute_reply": "2021-11-27T06:49:38.873848Z",
     "shell.execute_reply.started": "2021-11-27T06:28:48.103361Z"
    },
    "papermill": {
     "duration": 0.073547,
     "end_time": "2021-11-27T06:49:38.874873",
     "exception": false,
     "start_time": "2021-11-27T06:49:38.801326",
     "status": "completed"
    },
    "tags": []
   },
   "outputs": [
    {
     "data": {
      "text/html": [
       "<div>\n",
       "<style scoped>\n",
       "    .dataframe tbody tr th:only-of-type {\n",
       "        vertical-align: middle;\n",
       "    }\n",
       "\n",
       "    .dataframe tbody tr th {\n",
       "        vertical-align: top;\n",
       "    }\n",
       "\n",
       "    .dataframe thead th {\n",
       "        text-align: right;\n",
       "    }\n",
       "</style>\n",
       "<table border=\"1\" class=\"dataframe\">\n",
       "  <thead>\n",
       "    <tr style=\"text-align: right;\">\n",
       "      <th></th>\n",
       "      <th>ag</th>\n",
       "      <th>at</th>\n",
       "      <th>as</th>\n",
       "      <th>an</th>\n",
       "      <th>ai</th>\n",
       "      <th>eag</th>\n",
       "      <th>eat</th>\n",
       "      <th>eas</th>\n",
       "      <th>ean</th>\n",
       "      <th>eai</th>\n",
       "      <th>...</th>\n",
       "      <th>tmt</th>\n",
       "      <th>tms</th>\n",
       "      <th>tmn</th>\n",
       "      <th>tmi</th>\n",
       "      <th>mr</th>\n",
       "      <th>rnf</th>\n",
       "      <th>mdic</th>\n",
       "      <th>emd</th>\n",
       "      <th>mv</th>\n",
       "      <th>Class</th>\n",
       "    </tr>\n",
       "  </thead>\n",
       "  <tbody>\n",
       "    <tr>\n",
       "      <th>0</th>\n",
       "      <td>2.220</td>\n",
       "      <td>0.354</td>\n",
       "      <td>0.580</td>\n",
       "      <td>0.686</td>\n",
       "      <td>0.601</td>\n",
       "      <td>1.267</td>\n",
       "      <td>0.336</td>\n",
       "      <td>0.346</td>\n",
       "      <td>0.255</td>\n",
       "      <td>0.331</td>\n",
       "      <td>...</td>\n",
       "      <td>-0.018</td>\n",
       "      <td>-0.230</td>\n",
       "      <td>-0.510</td>\n",
       "      <td>-0.158</td>\n",
       "      <td>0.841</td>\n",
       "      <td>0.410</td>\n",
       "      <td>0.137</td>\n",
       "      <td>0.239</td>\n",
       "      <td>0.035</td>\n",
       "      <td>0</td>\n",
       "    </tr>\n",
       "    <tr>\n",
       "      <th>1</th>\n",
       "      <td>2.681</td>\n",
       "      <td>0.475</td>\n",
       "      <td>0.672</td>\n",
       "      <td>0.868</td>\n",
       "      <td>0.667</td>\n",
       "      <td>2.053</td>\n",
       "      <td>0.440</td>\n",
       "      <td>0.520</td>\n",
       "      <td>0.639</td>\n",
       "      <td>0.454</td>\n",
       "      <td>...</td>\n",
       "      <td>-0.014</td>\n",
       "      <td>-0.165</td>\n",
       "      <td>-0.317</td>\n",
       "      <td>-0.192</td>\n",
       "      <td>0.924</td>\n",
       "      <td>0.256</td>\n",
       "      <td>0.252</td>\n",
       "      <td>0.329</td>\n",
       "      <td>0.022</td>\n",
       "      <td>0</td>\n",
       "    </tr>\n",
       "    <tr>\n",
       "      <th>2</th>\n",
       "      <td>1.979</td>\n",
       "      <td>0.343</td>\n",
       "      <td>0.508</td>\n",
       "      <td>0.624</td>\n",
       "      <td>0.504</td>\n",
       "      <td>1.200</td>\n",
       "      <td>0.299</td>\n",
       "      <td>0.396</td>\n",
       "      <td>0.259</td>\n",
       "      <td>0.246</td>\n",
       "      <td>...</td>\n",
       "      <td>-0.097</td>\n",
       "      <td>-0.235</td>\n",
       "      <td>-0.337</td>\n",
       "      <td>-0.020</td>\n",
       "      <td>0.795</td>\n",
       "      <td>0.378</td>\n",
       "      <td>0.152</td>\n",
       "      <td>0.250</td>\n",
       "      <td>0.029</td>\n",
       "      <td>0</td>\n",
       "    </tr>\n",
       "    <tr>\n",
       "      <th>3</th>\n",
       "      <td>1.747</td>\n",
       "      <td>0.269</td>\n",
       "      <td>0.476</td>\n",
       "      <td>0.525</td>\n",
       "      <td>0.476</td>\n",
       "      <td>0.612</td>\n",
       "      <td>0.147</td>\n",
       "      <td>0.017</td>\n",
       "      <td>0.044</td>\n",
       "      <td>0.405</td>\n",
       "      <td>...</td>\n",
       "      <td>-0.035</td>\n",
       "      <td>-0.449</td>\n",
       "      <td>-0.217</td>\n",
       "      <td>-0.091</td>\n",
       "      <td>0.746</td>\n",
       "      <td>0.200</td>\n",
       "      <td>0.027</td>\n",
       "      <td>0.078</td>\n",
       "      <td>0.023</td>\n",
       "      <td>0</td>\n",
       "    </tr>\n",
       "    <tr>\n",
       "      <th>4</th>\n",
       "      <td>2.990</td>\n",
       "      <td>0.599</td>\n",
       "      <td>0.686</td>\n",
       "      <td>1.039</td>\n",
       "      <td>0.667</td>\n",
       "      <td>2.513</td>\n",
       "      <td>0.543</td>\n",
       "      <td>0.607</td>\n",
       "      <td>0.871</td>\n",
       "      <td>0.492</td>\n",
       "      <td>...</td>\n",
       "      <td>-0.105</td>\n",
       "      <td>0.084</td>\n",
       "      <td>-0.012</td>\n",
       "      <td>-0.054</td>\n",
       "      <td>0.977</td>\n",
       "      <td>0.193</td>\n",
       "      <td>0.297</td>\n",
       "      <td>0.354</td>\n",
       "      <td>0.034</td>\n",
       "      <td>0</td>\n",
       "    </tr>\n",
       "  </tbody>\n",
       "</table>\n",
       "<p>5 rows × 63 columns</p>\n",
       "</div>"
      ],
      "text/plain": [
       "      ag     at     as     an     ai    eag    eat    eas    ean    eai  ...  \\\n",
       "0  2.220  0.354  0.580  0.686  0.601  1.267  0.336  0.346  0.255  0.331  ...   \n",
       "1  2.681  0.475  0.672  0.868  0.667  2.053  0.440  0.520  0.639  0.454  ...   \n",
       "2  1.979  0.343  0.508  0.624  0.504  1.200  0.299  0.396  0.259  0.246  ...   \n",
       "3  1.747  0.269  0.476  0.525  0.476  0.612  0.147  0.017  0.044  0.405  ...   \n",
       "4  2.990  0.599  0.686  1.039  0.667  2.513  0.543  0.607  0.871  0.492  ...   \n",
       "\n",
       "     tmt    tms    tmn    tmi     mr    rnf   mdic    emd     mv  Class  \n",
       "0 -0.018 -0.230 -0.510 -0.158  0.841  0.410  0.137  0.239  0.035      0  \n",
       "1 -0.014 -0.165 -0.317 -0.192  0.924  0.256  0.252  0.329  0.022      0  \n",
       "2 -0.097 -0.235 -0.337 -0.020  0.795  0.378  0.152  0.250  0.029      0  \n",
       "3 -0.035 -0.449 -0.217 -0.091  0.746  0.200  0.027  0.078  0.023      0  \n",
       "4 -0.105  0.084 -0.012 -0.054  0.977  0.193  0.297  0.354  0.034      0  \n",
       "\n",
       "[5 rows x 63 columns]"
      ]
     },
     "execution_count": 3,
     "metadata": {},
     "output_type": "execute_result"
    }
   ],
   "source": [
    "data.head()"
   ]
  },
  {
   "cell_type": "markdown",
   "id": "72e09734",
   "metadata": {
    "papermill": {
     "duration": 0.026693,
     "end_time": "2021-11-27T06:49:38.928884",
     "exception": false,
     "start_time": "2021-11-27T06:49:38.902191",
     "status": "completed"
    },
    "tags": []
   },
   "source": [
    "**Class 0 represents no disease and class 1 represents glaucoma**"
   ]
  },
  {
   "cell_type": "code",
   "execution_count": 4,
   "id": "a8af4986",
   "metadata": {
    "execution": {
     "iopub.execute_input": "2021-11-27T06:49:38.980869Z",
     "iopub.status.busy": "2021-11-27T06:49:38.980180Z",
     "iopub.status.idle": "2021-11-27T06:49:39.012089Z",
     "shell.execute_reply": "2021-11-27T06:49:39.012547Z",
     "shell.execute_reply.started": "2021-11-27T06:28:48.395474Z"
    },
    "papermill": {
     "duration": 0.060184,
     "end_time": "2021-11-27T06:49:39.012727",
     "exception": false,
     "start_time": "2021-11-27T06:49:38.952543",
     "status": "completed"
    },
    "tags": []
   },
   "outputs": [
    {
     "name": "stdout",
     "output_type": "stream",
     "text": [
      "<class 'pandas.core.frame.DataFrame'>\n",
      "RangeIndex: 196 entries, 0 to 195\n",
      "Data columns (total 63 columns):\n",
      " #   Column  Non-Null Count  Dtype  \n",
      "---  ------  --------------  -----  \n",
      " 0   ag      196 non-null    float64\n",
      " 1   at      196 non-null    float64\n",
      " 2   as      196 non-null    float64\n",
      " 3   an      196 non-null    float64\n",
      " 4   ai      196 non-null    float64\n",
      " 5   eag     196 non-null    float64\n",
      " 6   eat     196 non-null    float64\n",
      " 7   eas     196 non-null    float64\n",
      " 8   ean     196 non-null    float64\n",
      " 9   eai     196 non-null    float64\n",
      " 10  abrg    196 non-null    float64\n",
      " 11  abrt    196 non-null    float64\n",
      " 12  abrs    196 non-null    float64\n",
      " 13  abrn    196 non-null    float64\n",
      " 14  abri    196 non-null    float64\n",
      " 15  hic     196 non-null    float64\n",
      " 16  mhcg    196 non-null    float64\n",
      " 17  mhct    196 non-null    float64\n",
      " 18  mhcs    196 non-null    float64\n",
      " 19  mhcn    196 non-null    float64\n",
      " 20  mhci    196 non-null    float64\n",
      " 21  phcg    196 non-null    float64\n",
      " 22  phct    196 non-null    float64\n",
      " 23  phcs    196 non-null    float64\n",
      " 24  phcn    196 non-null    float64\n",
      " 25  phci    196 non-null    float64\n",
      " 26  hvc     196 non-null    float64\n",
      " 27  vbsg    196 non-null    float64\n",
      " 28  vbst    196 non-null    float64\n",
      " 29  vbss    196 non-null    float64\n",
      " 30  vbsn    196 non-null    float64\n",
      " 31  vbsi    196 non-null    float64\n",
      " 32  vasg    196 non-null    float64\n",
      " 33  vast    196 non-null    float64\n",
      " 34  vass    196 non-null    float64\n",
      " 35  vasn    196 non-null    float64\n",
      " 36  vasi    196 non-null    float64\n",
      " 37  vbrg    196 non-null    float64\n",
      " 38  vbrt    196 non-null    float64\n",
      " 39  vbrs    196 non-null    float64\n",
      " 40  vbrn    196 non-null    float64\n",
      " 41  vbri    196 non-null    float64\n",
      " 42  varg    196 non-null    float64\n",
      " 43  vart    196 non-null    float64\n",
      " 44  vars    196 non-null    float64\n",
      " 45  varn    196 non-null    float64\n",
      " 46  vari    196 non-null    float64\n",
      " 47  mdg     196 non-null    float64\n",
      " 48  mdt     196 non-null    float64\n",
      " 49  mds     196 non-null    float64\n",
      " 50  mdn     196 non-null    float64\n",
      " 51  mdi     196 non-null    float64\n",
      " 52  tmg     196 non-null    float64\n",
      " 53  tmt     196 non-null    float64\n",
      " 54  tms     196 non-null    float64\n",
      " 55  tmn     196 non-null    float64\n",
      " 56  tmi     196 non-null    float64\n",
      " 57  mr      196 non-null    float64\n",
      " 58  rnf     196 non-null    float64\n",
      " 59  mdic    196 non-null    float64\n",
      " 60  emd     196 non-null    float64\n",
      " 61  mv      196 non-null    float64\n",
      " 62  Class   196 non-null    int64  \n",
      "dtypes: float64(62), int64(1)\n",
      "memory usage: 96.6 KB\n"
     ]
    }
   ],
   "source": [
    "data.info()"
   ]
  },
  {
   "cell_type": "markdown",
   "id": "75c57283",
   "metadata": {
    "papermill": {
     "duration": 0.025514,
     "end_time": "2021-11-27T06:49:39.062919",
     "exception": false,
     "start_time": "2021-11-27T06:49:39.037405",
     "status": "completed"
    },
    "tags": []
   },
   "source": [
    "**There is no missing values and null values**"
   ]
  },
  {
   "cell_type": "code",
   "execution_count": 5,
   "id": "86d6ca26",
   "metadata": {
    "execution": {
     "iopub.execute_input": "2021-11-27T06:49:39.118293Z",
     "iopub.status.busy": "2021-11-27T06:49:39.114376Z",
     "iopub.status.idle": "2021-11-27T06:49:39.260814Z",
     "shell.execute_reply": "2021-11-27T06:49:39.261467Z",
     "shell.execute_reply.started": "2021-11-27T06:28:48.729218Z"
    },
    "papermill": {
     "duration": 0.174535,
     "end_time": "2021-11-27T06:49:39.261653",
     "exception": false,
     "start_time": "2021-11-27T06:49:39.087118",
     "status": "completed"
    },
    "tags": []
   },
   "outputs": [
    {
     "data": {
      "text/html": [
       "<div>\n",
       "<style scoped>\n",
       "    .dataframe tbody tr th:only-of-type {\n",
       "        vertical-align: middle;\n",
       "    }\n",
       "\n",
       "    .dataframe tbody tr th {\n",
       "        vertical-align: top;\n",
       "    }\n",
       "\n",
       "    .dataframe thead th {\n",
       "        text-align: right;\n",
       "    }\n",
       "</style>\n",
       "<table border=\"1\" class=\"dataframe\">\n",
       "  <thead>\n",
       "    <tr style=\"text-align: right;\">\n",
       "      <th></th>\n",
       "      <th>ag</th>\n",
       "      <th>at</th>\n",
       "      <th>as</th>\n",
       "      <th>an</th>\n",
       "      <th>ai</th>\n",
       "      <th>eag</th>\n",
       "      <th>eat</th>\n",
       "      <th>eas</th>\n",
       "      <th>ean</th>\n",
       "      <th>eai</th>\n",
       "      <th>...</th>\n",
       "      <th>tmt</th>\n",
       "      <th>tms</th>\n",
       "      <th>tmn</th>\n",
       "      <th>tmi</th>\n",
       "      <th>mr</th>\n",
       "      <th>rnf</th>\n",
       "      <th>mdic</th>\n",
       "      <th>emd</th>\n",
       "      <th>mv</th>\n",
       "      <th>Class</th>\n",
       "    </tr>\n",
       "  </thead>\n",
       "  <tbody>\n",
       "    <tr>\n",
       "      <th>count</th>\n",
       "      <td>196.000000</td>\n",
       "      <td>196.000000</td>\n",
       "      <td>196.000000</td>\n",
       "      <td>196.000000</td>\n",
       "      <td>196.000000</td>\n",
       "      <td>196.000000</td>\n",
       "      <td>196.000000</td>\n",
       "      <td>196.000000</td>\n",
       "      <td>196.000000</td>\n",
       "      <td>196.000000</td>\n",
       "      <td>...</td>\n",
       "      <td>196.000000</td>\n",
       "      <td>196.000000</td>\n",
       "      <td>196.000000</td>\n",
       "      <td>196.000000</td>\n",
       "      <td>196.000000</td>\n",
       "      <td>196.000000</td>\n",
       "      <td>196.000000</td>\n",
       "      <td>196.000000</td>\n",
       "      <td>196.000000</td>\n",
       "      <td>196.00000</td>\n",
       "    </tr>\n",
       "    <tr>\n",
       "      <th>mean</th>\n",
       "      <td>2.606531</td>\n",
       "      <td>0.458980</td>\n",
       "      <td>0.651781</td>\n",
       "      <td>0.835929</td>\n",
       "      <td>0.659995</td>\n",
       "      <td>1.874138</td>\n",
       "      <td>0.406372</td>\n",
       "      <td>0.486403</td>\n",
       "      <td>0.501214</td>\n",
       "      <td>0.480097</td>\n",
       "      <td>...</td>\n",
       "      <td>-0.004658</td>\n",
       "      <td>-0.039806</td>\n",
       "      <td>-0.147204</td>\n",
       "      <td>-0.036510</td>\n",
       "      <td>0.904985</td>\n",
       "      <td>0.182383</td>\n",
       "      <td>0.231270</td>\n",
       "      <td>0.308903</td>\n",
       "      <td>0.033541</td>\n",
       "      <td>0.50000</td>\n",
       "    </tr>\n",
       "    <tr>\n",
       "      <th>std</th>\n",
       "      <td>0.659789</td>\n",
       "      <td>0.127013</td>\n",
       "      <td>0.158462</td>\n",
       "      <td>0.222166</td>\n",
       "      <td>0.161065</td>\n",
       "      <td>0.721218</td>\n",
       "      <td>0.125941</td>\n",
       "      <td>0.184486</td>\n",
       "      <td>0.286181</td>\n",
       "      <td>0.173977</td>\n",
       "      <td>...</td>\n",
       "      <td>0.128062</td>\n",
       "      <td>0.150077</td>\n",
       "      <td>0.134205</td>\n",
       "      <td>0.136423</td>\n",
       "      <td>0.112356</td>\n",
       "      <td>0.094080</td>\n",
       "      <td>0.123882</td>\n",
       "      <td>0.128246</td>\n",
       "      <td>0.021850</td>\n",
       "      <td>0.50128</td>\n",
       "    </tr>\n",
       "    <tr>\n",
       "      <th>min</th>\n",
       "      <td>1.312000</td>\n",
       "      <td>0.201000</td>\n",
       "      <td>0.345000</td>\n",
       "      <td>0.397000</td>\n",
       "      <td>0.369000</td>\n",
       "      <td>0.415000</td>\n",
       "      <td>0.137000</td>\n",
       "      <td>0.017000</td>\n",
       "      <td>0.008000</td>\n",
       "      <td>0.098000</td>\n",
       "      <td>...</td>\n",
       "      <td>-0.291000</td>\n",
       "      <td>-0.449000</td>\n",
       "      <td>-0.510000</td>\n",
       "      <td>-0.405000</td>\n",
       "      <td>0.647000</td>\n",
       "      <td>-0.297000</td>\n",
       "      <td>0.012000</td>\n",
       "      <td>0.047000</td>\n",
       "      <td>0.000000</td>\n",
       "      <td>0.00000</td>\n",
       "    </tr>\n",
       "    <tr>\n",
       "      <th>25%</th>\n",
       "      <td>2.139250</td>\n",
       "      <td>0.370750</td>\n",
       "      <td>0.538500</td>\n",
       "      <td>0.681000</td>\n",
       "      <td>0.550500</td>\n",
       "      <td>1.309250</td>\n",
       "      <td>0.315750</td>\n",
       "      <td>0.380750</td>\n",
       "      <td>0.280500</td>\n",
       "      <td>0.372500</td>\n",
       "      <td>...</td>\n",
       "      <td>-0.101000</td>\n",
       "      <td>-0.135250</td>\n",
       "      <td>-0.231000</td>\n",
       "      <td>-0.127500</td>\n",
       "      <td>0.826000</td>\n",
       "      <td>0.119750</td>\n",
       "      <td>0.144000</td>\n",
       "      <td>0.230500</td>\n",
       "      <td>0.021000</td>\n",
       "      <td>0.00000</td>\n",
       "    </tr>\n",
       "    <tr>\n",
       "      <th>50%</th>\n",
       "      <td>2.533000</td>\n",
       "      <td>0.444500</td>\n",
       "      <td>0.630500</td>\n",
       "      <td>0.808500</td>\n",
       "      <td>0.632000</td>\n",
       "      <td>1.843500</td>\n",
       "      <td>0.402500</td>\n",
       "      <td>0.468500</td>\n",
       "      <td>0.503500</td>\n",
       "      <td>0.484000</td>\n",
       "      <td>...</td>\n",
       "      <td>-0.018500</td>\n",
       "      <td>-0.031500</td>\n",
       "      <td>-0.146500</td>\n",
       "      <td>-0.036000</td>\n",
       "      <td>0.899500</td>\n",
       "      <td>0.182000</td>\n",
       "      <td>0.227000</td>\n",
       "      <td>0.298000</td>\n",
       "      <td>0.028000</td>\n",
       "      <td>0.50000</td>\n",
       "    </tr>\n",
       "    <tr>\n",
       "      <th>75%</th>\n",
       "      <td>2.943500</td>\n",
       "      <td>0.528000</td>\n",
       "      <td>0.738250</td>\n",
       "      <td>0.952000</td>\n",
       "      <td>0.749750</td>\n",
       "      <td>2.317000</td>\n",
       "      <td>0.483250</td>\n",
       "      <td>0.605500</td>\n",
       "      <td>0.689500</td>\n",
       "      <td>0.594750</td>\n",
       "      <td>...</td>\n",
       "      <td>0.087750</td>\n",
       "      <td>0.068000</td>\n",
       "      <td>-0.056250</td>\n",
       "      <td>0.049500</td>\n",
       "      <td>0.968500</td>\n",
       "      <td>0.237000</td>\n",
       "      <td>0.299250</td>\n",
       "      <td>0.379250</td>\n",
       "      <td>0.038250</td>\n",
       "      <td>1.00000</td>\n",
       "    </tr>\n",
       "    <tr>\n",
       "      <th>max</th>\n",
       "      <td>5.444000</td>\n",
       "      <td>0.967000</td>\n",
       "      <td>1.340000</td>\n",
       "      <td>1.765000</td>\n",
       "      <td>1.373000</td>\n",
       "      <td>4.125000</td>\n",
       "      <td>0.848000</td>\n",
       "      <td>1.225000</td>\n",
       "      <td>1.568000</td>\n",
       "      <td>0.961000</td>\n",
       "      <td>...</td>\n",
       "      <td>0.366000</td>\n",
       "      <td>0.358000</td>\n",
       "      <td>0.245000</td>\n",
       "      <td>0.418000</td>\n",
       "      <td>1.317000</td>\n",
       "      <td>0.451000</td>\n",
       "      <td>0.663000</td>\n",
       "      <td>0.743000</td>\n",
       "      <td>0.183000</td>\n",
       "      <td>1.00000</td>\n",
       "    </tr>\n",
       "  </tbody>\n",
       "</table>\n",
       "<p>8 rows × 63 columns</p>\n",
       "</div>"
      ],
      "text/plain": [
       "               ag          at          as          an          ai         eag  \\\n",
       "count  196.000000  196.000000  196.000000  196.000000  196.000000  196.000000   \n",
       "mean     2.606531    0.458980    0.651781    0.835929    0.659995    1.874138   \n",
       "std      0.659789    0.127013    0.158462    0.222166    0.161065    0.721218   \n",
       "min      1.312000    0.201000    0.345000    0.397000    0.369000    0.415000   \n",
       "25%      2.139250    0.370750    0.538500    0.681000    0.550500    1.309250   \n",
       "50%      2.533000    0.444500    0.630500    0.808500    0.632000    1.843500   \n",
       "75%      2.943500    0.528000    0.738250    0.952000    0.749750    2.317000   \n",
       "max      5.444000    0.967000    1.340000    1.765000    1.373000    4.125000   \n",
       "\n",
       "              eat         eas         ean         eai  ...         tmt  \\\n",
       "count  196.000000  196.000000  196.000000  196.000000  ...  196.000000   \n",
       "mean     0.406372    0.486403    0.501214    0.480097  ...   -0.004658   \n",
       "std      0.125941    0.184486    0.286181    0.173977  ...    0.128062   \n",
       "min      0.137000    0.017000    0.008000    0.098000  ...   -0.291000   \n",
       "25%      0.315750    0.380750    0.280500    0.372500  ...   -0.101000   \n",
       "50%      0.402500    0.468500    0.503500    0.484000  ...   -0.018500   \n",
       "75%      0.483250    0.605500    0.689500    0.594750  ...    0.087750   \n",
       "max      0.848000    1.225000    1.568000    0.961000  ...    0.366000   \n",
       "\n",
       "              tms         tmn         tmi          mr         rnf        mdic  \\\n",
       "count  196.000000  196.000000  196.000000  196.000000  196.000000  196.000000   \n",
       "mean    -0.039806   -0.147204   -0.036510    0.904985    0.182383    0.231270   \n",
       "std      0.150077    0.134205    0.136423    0.112356    0.094080    0.123882   \n",
       "min     -0.449000   -0.510000   -0.405000    0.647000   -0.297000    0.012000   \n",
       "25%     -0.135250   -0.231000   -0.127500    0.826000    0.119750    0.144000   \n",
       "50%     -0.031500   -0.146500   -0.036000    0.899500    0.182000    0.227000   \n",
       "75%      0.068000   -0.056250    0.049500    0.968500    0.237000    0.299250   \n",
       "max      0.358000    0.245000    0.418000    1.317000    0.451000    0.663000   \n",
       "\n",
       "              emd          mv      Class  \n",
       "count  196.000000  196.000000  196.00000  \n",
       "mean     0.308903    0.033541    0.50000  \n",
       "std      0.128246    0.021850    0.50128  \n",
       "min      0.047000    0.000000    0.00000  \n",
       "25%      0.230500    0.021000    0.00000  \n",
       "50%      0.298000    0.028000    0.50000  \n",
       "75%      0.379250    0.038250    1.00000  \n",
       "max      0.743000    0.183000    1.00000  \n",
       "\n",
       "[8 rows x 63 columns]"
      ]
     },
     "execution_count": 5,
     "metadata": {},
     "output_type": "execute_result"
    }
   ],
   "source": [
    "data.describe()"
   ]
  },
  {
   "cell_type": "code",
   "execution_count": 6,
   "id": "d111807d",
   "metadata": {
    "execution": {
     "iopub.execute_input": "2021-11-27T06:49:39.314643Z",
     "iopub.status.busy": "2021-11-27T06:49:39.313542Z",
     "iopub.status.idle": "2021-11-27T06:49:39.318625Z",
     "shell.execute_reply": "2021-11-27T06:49:39.319265Z",
     "shell.execute_reply.started": "2021-11-27T06:28:48.881791Z"
    },
    "papermill": {
     "duration": 0.033335,
     "end_time": "2021-11-27T06:49:39.319457",
     "exception": false,
     "start_time": "2021-11-27T06:49:39.286122",
     "status": "completed"
    },
    "tags": []
   },
   "outputs": [],
   "source": [
    "X=data.drop(\"Class\",axis=1) #Defining X\n",
    "Y=data[\"Class\"] # Defining Y"
   ]
  },
  {
   "cell_type": "code",
   "execution_count": 7,
   "id": "d2af2ddc",
   "metadata": {
    "execution": {
     "iopub.execute_input": "2021-11-27T06:49:39.374604Z",
     "iopub.status.busy": "2021-11-27T06:49:39.373588Z",
     "iopub.status.idle": "2021-11-27T06:49:39.402911Z",
     "shell.execute_reply": "2021-11-27T06:49:39.402356Z",
     "shell.execute_reply.started": "2021-11-27T06:28:48.981265Z"
    },
    "papermill": {
     "duration": 0.059057,
     "end_time": "2021-11-27T06:49:39.403068",
     "exception": false,
     "start_time": "2021-11-27T06:49:39.344011",
     "status": "completed"
    },
    "tags": []
   },
   "outputs": [
    {
     "data": {
      "text/html": [
       "<div>\n",
       "<style scoped>\n",
       "    .dataframe tbody tr th:only-of-type {\n",
       "        vertical-align: middle;\n",
       "    }\n",
       "\n",
       "    .dataframe tbody tr th {\n",
       "        vertical-align: top;\n",
       "    }\n",
       "\n",
       "    .dataframe thead th {\n",
       "        text-align: right;\n",
       "    }\n",
       "</style>\n",
       "<table border=\"1\" class=\"dataframe\">\n",
       "  <thead>\n",
       "    <tr style=\"text-align: right;\">\n",
       "      <th></th>\n",
       "      <th>ag</th>\n",
       "      <th>at</th>\n",
       "      <th>as</th>\n",
       "      <th>an</th>\n",
       "      <th>ai</th>\n",
       "      <th>eag</th>\n",
       "      <th>eat</th>\n",
       "      <th>eas</th>\n",
       "      <th>ean</th>\n",
       "      <th>eai</th>\n",
       "      <th>...</th>\n",
       "      <th>tmg</th>\n",
       "      <th>tmt</th>\n",
       "      <th>tms</th>\n",
       "      <th>tmn</th>\n",
       "      <th>tmi</th>\n",
       "      <th>mr</th>\n",
       "      <th>rnf</th>\n",
       "      <th>mdic</th>\n",
       "      <th>emd</th>\n",
       "      <th>mv</th>\n",
       "    </tr>\n",
       "  </thead>\n",
       "  <tbody>\n",
       "    <tr>\n",
       "      <th>0</th>\n",
       "      <td>2.220</td>\n",
       "      <td>0.354</td>\n",
       "      <td>0.580</td>\n",
       "      <td>0.686</td>\n",
       "      <td>0.601</td>\n",
       "      <td>1.267</td>\n",
       "      <td>0.336</td>\n",
       "      <td>0.346</td>\n",
       "      <td>0.255</td>\n",
       "      <td>0.331</td>\n",
       "      <td>...</td>\n",
       "      <td>-0.236</td>\n",
       "      <td>-0.018</td>\n",
       "      <td>-0.230</td>\n",
       "      <td>-0.510</td>\n",
       "      <td>-0.158</td>\n",
       "      <td>0.841</td>\n",
       "      <td>0.410</td>\n",
       "      <td>0.137</td>\n",
       "      <td>0.239</td>\n",
       "      <td>0.035</td>\n",
       "    </tr>\n",
       "    <tr>\n",
       "      <th>1</th>\n",
       "      <td>2.681</td>\n",
       "      <td>0.475</td>\n",
       "      <td>0.672</td>\n",
       "      <td>0.868</td>\n",
       "      <td>0.667</td>\n",
       "      <td>2.053</td>\n",
       "      <td>0.440</td>\n",
       "      <td>0.520</td>\n",
       "      <td>0.639</td>\n",
       "      <td>0.454</td>\n",
       "      <td>...</td>\n",
       "      <td>-0.211</td>\n",
       "      <td>-0.014</td>\n",
       "      <td>-0.165</td>\n",
       "      <td>-0.317</td>\n",
       "      <td>-0.192</td>\n",
       "      <td>0.924</td>\n",
       "      <td>0.256</td>\n",
       "      <td>0.252</td>\n",
       "      <td>0.329</td>\n",
       "      <td>0.022</td>\n",
       "    </tr>\n",
       "    <tr>\n",
       "      <th>2</th>\n",
       "      <td>1.979</td>\n",
       "      <td>0.343</td>\n",
       "      <td>0.508</td>\n",
       "      <td>0.624</td>\n",
       "      <td>0.504</td>\n",
       "      <td>1.200</td>\n",
       "      <td>0.299</td>\n",
       "      <td>0.396</td>\n",
       "      <td>0.259</td>\n",
       "      <td>0.246</td>\n",
       "      <td>...</td>\n",
       "      <td>-0.185</td>\n",
       "      <td>-0.097</td>\n",
       "      <td>-0.235</td>\n",
       "      <td>-0.337</td>\n",
       "      <td>-0.020</td>\n",
       "      <td>0.795</td>\n",
       "      <td>0.378</td>\n",
       "      <td>0.152</td>\n",
       "      <td>0.250</td>\n",
       "      <td>0.029</td>\n",
       "    </tr>\n",
       "    <tr>\n",
       "      <th>3</th>\n",
       "      <td>1.747</td>\n",
       "      <td>0.269</td>\n",
       "      <td>0.476</td>\n",
       "      <td>0.525</td>\n",
       "      <td>0.476</td>\n",
       "      <td>0.612</td>\n",
       "      <td>0.147</td>\n",
       "      <td>0.017</td>\n",
       "      <td>0.044</td>\n",
       "      <td>0.405</td>\n",
       "      <td>...</td>\n",
       "      <td>-0.148</td>\n",
       "      <td>-0.035</td>\n",
       "      <td>-0.449</td>\n",
       "      <td>-0.217</td>\n",
       "      <td>-0.091</td>\n",
       "      <td>0.746</td>\n",
       "      <td>0.200</td>\n",
       "      <td>0.027</td>\n",
       "      <td>0.078</td>\n",
       "      <td>0.023</td>\n",
       "    </tr>\n",
       "    <tr>\n",
       "      <th>4</th>\n",
       "      <td>2.990</td>\n",
       "      <td>0.599</td>\n",
       "      <td>0.686</td>\n",
       "      <td>1.039</td>\n",
       "      <td>0.667</td>\n",
       "      <td>2.513</td>\n",
       "      <td>0.543</td>\n",
       "      <td>0.607</td>\n",
       "      <td>0.871</td>\n",
       "      <td>0.492</td>\n",
       "      <td>...</td>\n",
       "      <td>-0.052</td>\n",
       "      <td>-0.105</td>\n",
       "      <td>0.084</td>\n",
       "      <td>-0.012</td>\n",
       "      <td>-0.054</td>\n",
       "      <td>0.977</td>\n",
       "      <td>0.193</td>\n",
       "      <td>0.297</td>\n",
       "      <td>0.354</td>\n",
       "      <td>0.034</td>\n",
       "    </tr>\n",
       "  </tbody>\n",
       "</table>\n",
       "<p>5 rows × 62 columns</p>\n",
       "</div>"
      ],
      "text/plain": [
       "      ag     at     as     an     ai    eag    eat    eas    ean    eai  ...  \\\n",
       "0  2.220  0.354  0.580  0.686  0.601  1.267  0.336  0.346  0.255  0.331  ...   \n",
       "1  2.681  0.475  0.672  0.868  0.667  2.053  0.440  0.520  0.639  0.454  ...   \n",
       "2  1.979  0.343  0.508  0.624  0.504  1.200  0.299  0.396  0.259  0.246  ...   \n",
       "3  1.747  0.269  0.476  0.525  0.476  0.612  0.147  0.017  0.044  0.405  ...   \n",
       "4  2.990  0.599  0.686  1.039  0.667  2.513  0.543  0.607  0.871  0.492  ...   \n",
       "\n",
       "     tmg    tmt    tms    tmn    tmi     mr    rnf   mdic    emd     mv  \n",
       "0 -0.236 -0.018 -0.230 -0.510 -0.158  0.841  0.410  0.137  0.239  0.035  \n",
       "1 -0.211 -0.014 -0.165 -0.317 -0.192  0.924  0.256  0.252  0.329  0.022  \n",
       "2 -0.185 -0.097 -0.235 -0.337 -0.020  0.795  0.378  0.152  0.250  0.029  \n",
       "3 -0.148 -0.035 -0.449 -0.217 -0.091  0.746  0.200  0.027  0.078  0.023  \n",
       "4 -0.052 -0.105  0.084 -0.012 -0.054  0.977  0.193  0.297  0.354  0.034  \n",
       "\n",
       "[5 rows x 62 columns]"
      ]
     },
     "execution_count": 7,
     "metadata": {},
     "output_type": "execute_result"
    }
   ],
   "source": [
    "X.head() # first five values of X"
   ]
  },
  {
   "cell_type": "code",
   "execution_count": 8,
   "id": "17bba3aa",
   "metadata": {
    "execution": {
     "iopub.execute_input": "2021-11-27T06:49:39.457733Z",
     "iopub.status.busy": "2021-11-27T06:49:39.457106Z",
     "iopub.status.idle": "2021-11-27T06:49:39.462714Z",
     "shell.execute_reply": "2021-11-27T06:49:39.463207Z",
     "shell.execute_reply.started": "2021-11-27T06:28:49.109153Z"
    },
    "papermill": {
     "duration": 0.035021,
     "end_time": "2021-11-27T06:49:39.463397",
     "exception": false,
     "start_time": "2021-11-27T06:49:39.428376",
     "status": "completed"
    },
    "tags": []
   },
   "outputs": [
    {
     "data": {
      "text/plain": [
       "0    0\n",
       "1    0\n",
       "2    0\n",
       "3    0\n",
       "4    0\n",
       "Name: Class, dtype: int64"
      ]
     },
     "execution_count": 8,
     "metadata": {},
     "output_type": "execute_result"
    }
   ],
   "source": [
    "Y.head() # first five values of Y"
   ]
  },
  {
   "cell_type": "markdown",
   "id": "5a75da37",
   "metadata": {
    "papermill": {
     "duration": 0.026522,
     "end_time": "2021-11-27T06:49:39.517260",
     "exception": false,
     "start_time": "2021-11-27T06:49:39.490738",
     "status": "completed"
    },
    "tags": []
   },
   "source": [
    "# Splitting Training and test data"
   ]
  },
  {
   "cell_type": "code",
   "execution_count": 9,
   "id": "2d6361cd",
   "metadata": {
    "execution": {
     "iopub.execute_input": "2021-11-27T06:49:39.574513Z",
     "iopub.status.busy": "2021-11-27T06:49:39.573863Z",
     "iopub.status.idle": "2021-11-27T06:49:39.582257Z",
     "shell.execute_reply": "2021-11-27T06:49:39.581658Z",
     "shell.execute_reply.started": "2021-11-27T06:28:49.468615Z"
    },
    "papermill": {
     "duration": 0.038637,
     "end_time": "2021-11-27T06:49:39.582418",
     "exception": false,
     "start_time": "2021-11-27T06:49:39.543781",
     "status": "completed"
    },
    "tags": []
   },
   "outputs": [],
   "source": [
    "X_train, X_test, Y_train, Y_test= train_test_split(X,Y,test_size=0.2, stratify=Y,random_state=42)"
   ]
  },
  {
   "cell_type": "markdown",
   "id": "fb10f6f9",
   "metadata": {
    "papermill": {
     "duration": 0.02594,
     "end_time": "2021-11-27T06:49:39.634586",
     "exception": false,
     "start_time": "2021-11-27T06:49:39.608646",
     "status": "completed"
    },
    "tags": []
   },
   "source": [
    "# Model training"
   ]
  },
  {
   "cell_type": "markdown",
   "id": "97cba03d",
   "metadata": {
    "papermill": {
     "duration": 0.025131,
     "end_time": "2021-11-27T06:49:39.685355",
     "exception": false,
     "start_time": "2021-11-27T06:49:39.660224",
     "status": "completed"
    },
    "tags": []
   },
   "source": [
    "# LDA classifier"
   ]
  },
  {
   "cell_type": "code",
   "execution_count": 10,
   "id": "c466563b",
   "metadata": {
    "execution": {
     "iopub.execute_input": "2021-11-27T06:49:39.745431Z",
     "iopub.status.busy": "2021-11-27T06:49:39.744498Z",
     "iopub.status.idle": "2021-11-27T06:49:39.778315Z",
     "shell.execute_reply": "2021-11-27T06:49:39.779369Z",
     "shell.execute_reply.started": "2021-11-27T06:28:49.803334Z"
    },
    "papermill": {
     "duration": 0.068208,
     "end_time": "2021-11-27T06:49:39.779652",
     "exception": false,
     "start_time": "2021-11-27T06:49:39.711444",
     "status": "completed"
    },
    "tags": []
   },
   "outputs": [
    {
     "data": {
      "text/plain": [
       "LinearDiscriminantAnalysis()"
      ]
     },
     "execution_count": 10,
     "metadata": {},
     "output_type": "execute_result"
    }
   ],
   "source": [
    "model=LinearDiscriminantAnalysis()\n",
    "model.fit(X_train,Y_train)"
   ]
  },
  {
   "cell_type": "code",
   "execution_count": 11,
   "id": "57a3c2f4",
   "metadata": {
    "execution": {
     "iopub.execute_input": "2021-11-27T06:49:39.891983Z",
     "iopub.status.busy": "2021-11-27T06:49:39.890915Z",
     "iopub.status.idle": "2021-11-27T06:49:39.899039Z",
     "shell.execute_reply": "2021-11-27T06:49:39.898531Z",
     "shell.execute_reply.started": "2021-11-27T06:28:49.953550Z"
    },
    "papermill": {
     "duration": 0.068497,
     "end_time": "2021-11-27T06:49:39.899185",
     "exception": false,
     "start_time": "2021-11-27T06:49:39.830688",
     "status": "completed"
    },
    "tags": []
   },
   "outputs": [
    {
     "name": "stdout",
     "output_type": "stream",
     "text": [
      "Accuracy of LDA =  0.75\n",
      "AUC score =  0.7525252525252525\n"
     ]
    }
   ],
   "source": [
    "##ACCURACY\n",
    "XtestPrediction=model.predict(X_test)\n",
    "testDataAccuracy=accuracy_score(XtestPrediction,Y_test)\n",
    "print(\"Accuracy of LDA = \",testDataAccuracy)\n",
    "AUC_score=roc_auc_score(XtestPrediction,Y_test)\n",
    "print(\"AUC score = \",AUC_score)\n"
   ]
  },
  {
   "cell_type": "markdown",
   "id": "10aef559",
   "metadata": {
    "papermill": {
     "duration": 0.02608,
     "end_time": "2021-11-27T06:49:39.952107",
     "exception": false,
     "start_time": "2021-11-27T06:49:39.926027",
     "status": "completed"
    },
    "tags": []
   },
   "source": [
    "# Naives Bayes classifier"
   ]
  },
  {
   "cell_type": "code",
   "execution_count": 12,
   "id": "e3206d92",
   "metadata": {
    "execution": {
     "iopub.execute_input": "2021-11-27T06:49:40.009413Z",
     "iopub.status.busy": "2021-11-27T06:49:40.008712Z",
     "iopub.status.idle": "2021-11-27T06:49:40.017077Z",
     "shell.execute_reply": "2021-11-27T06:49:40.017636Z",
     "shell.execute_reply.started": "2021-11-27T06:28:50.258788Z"
    },
    "papermill": {
     "duration": 0.039149,
     "end_time": "2021-11-27T06:49:40.017828",
     "exception": false,
     "start_time": "2021-11-27T06:49:39.978679",
     "status": "completed"
    },
    "tags": []
   },
   "outputs": [
    {
     "data": {
      "text/plain": [
       "GaussianNB()"
      ]
     },
     "execution_count": 12,
     "metadata": {},
     "output_type": "execute_result"
    }
   ],
   "source": [
    "model=GaussianNB()\n",
    "model.fit(X_train,Y_train)"
   ]
  },
  {
   "cell_type": "code",
   "execution_count": 13,
   "id": "55523ec3",
   "metadata": {
    "execution": {
     "iopub.execute_input": "2021-11-27T06:49:40.074855Z",
     "iopub.status.busy": "2021-11-27T06:49:40.074222Z",
     "iopub.status.idle": "2021-11-27T06:49:40.084513Z",
     "shell.execute_reply": "2021-11-27T06:49:40.085143Z",
     "shell.execute_reply.started": "2021-11-27T06:28:50.388502Z"
    },
    "papermill": {
     "duration": 0.040451,
     "end_time": "2021-11-27T06:49:40.085325",
     "exception": false,
     "start_time": "2021-11-27T06:49:40.044874",
     "status": "completed"
    },
    "tags": []
   },
   "outputs": [
    {
     "name": "stdout",
     "output_type": "stream",
     "text": [
      "Accuracy of Naives Bayes classifier =  0.65\n",
      "AUC score =  0.6515151515151516\n"
     ]
    }
   ],
   "source": [
    "##ACCURACY\n",
    "XtestPrediction=model.predict(X_test)\n",
    "testDataAccuracy=accuracy_score(XtestPrediction,Y_test)\n",
    "print(\"Accuracy of Naives Bayes classifier = \",testDataAccuracy)\n",
    "AUC_score=roc_auc_score(XtestPrediction,Y_test)\n",
    "print(\"AUC score = \",AUC_score)\n"
   ]
  },
  {
   "cell_type": "markdown",
   "id": "41ef44fa",
   "metadata": {
    "papermill": {
     "duration": 0.026904,
     "end_time": "2021-11-27T06:49:40.140359",
     "exception": false,
     "start_time": "2021-11-27T06:49:40.113455",
     "status": "completed"
    },
    "tags": []
   },
   "source": [
    "# SVM Classifier"
   ]
  },
  {
   "cell_type": "code",
   "execution_count": 14,
   "id": "4f589ce3",
   "metadata": {
    "execution": {
     "iopub.execute_input": "2021-11-27T06:49:40.197772Z",
     "iopub.status.busy": "2021-11-27T06:49:40.197132Z",
     "iopub.status.idle": "2021-11-27T06:49:40.208550Z",
     "shell.execute_reply": "2021-11-27T06:49:40.209122Z",
     "shell.execute_reply.started": "2021-11-27T06:28:54.346348Z"
    },
    "papermill": {
     "duration": 0.041856,
     "end_time": "2021-11-27T06:49:40.209301",
     "exception": false,
     "start_time": "2021-11-27T06:49:40.167445",
     "status": "completed"
    },
    "tags": []
   },
   "outputs": [
    {
     "data": {
      "text/plain": [
       "SVC()"
      ]
     },
     "execution_count": 14,
     "metadata": {},
     "output_type": "execute_result"
    }
   ],
   "source": [
    "from sklearn import svm\n",
    "model=svm.SVC()\n",
    "model.fit(X_train,Y_train)"
   ]
  },
  {
   "cell_type": "code",
   "execution_count": 15,
   "id": "88b86d3a",
   "metadata": {
    "execution": {
     "iopub.execute_input": "2021-11-27T06:49:40.268653Z",
     "iopub.status.busy": "2021-11-27T06:49:40.268026Z",
     "iopub.status.idle": "2021-11-27T06:49:40.278455Z",
     "shell.execute_reply": "2021-11-27T06:49:40.279079Z",
     "shell.execute_reply.started": "2021-11-27T06:28:55.575588Z"
    },
    "papermill": {
     "duration": 0.041053,
     "end_time": "2021-11-27T06:49:40.279258",
     "exception": false,
     "start_time": "2021-11-27T06:49:40.238205",
     "status": "completed"
    },
    "tags": []
   },
   "outputs": [
    {
     "name": "stdout",
     "output_type": "stream",
     "text": [
      "Accuracy of SVC =  0.775\n",
      "AUC score =  0.7756892230576441\n"
     ]
    }
   ],
   "source": [
    "##ACCURACY\n",
    "XtestPrediction=model.predict(X_test)\n",
    "testDataAccuracy=accuracy_score(XtestPrediction,Y_test)\n",
    "print(\"Accuracy of SVC = \",testDataAccuracy)\n",
    "AUC_score=roc_auc_score(XtestPrediction,Y_test)\n",
    "print(\"AUC score = \",AUC_score)"
   ]
  },
  {
   "cell_type": "markdown",
   "id": "5018b532",
   "metadata": {
    "papermill": {
     "duration": 0.027657,
     "end_time": "2021-11-27T06:49:40.335668",
     "exception": false,
     "start_time": "2021-11-27T06:49:40.308011",
     "status": "completed"
    },
    "tags": []
   },
   "source": [
    "# Building an Artificial Neural Network "
   ]
  },
  {
   "cell_type": "code",
   "execution_count": 16,
   "id": "3a1d82f4",
   "metadata": {
    "execution": {
     "iopub.execute_input": "2021-11-27T06:49:40.397551Z",
     "iopub.status.busy": "2021-11-27T06:49:40.396906Z",
     "iopub.status.idle": "2021-11-27T06:49:40.401962Z",
     "shell.execute_reply": "2021-11-27T06:49:40.402540Z",
     "shell.execute_reply.started": "2021-11-27T06:28:57.093386Z"
    },
    "papermill": {
     "duration": 0.036077,
     "end_time": "2021-11-27T06:49:40.402705",
     "exception": false,
     "start_time": "2021-11-27T06:49:40.366628",
     "status": "completed"
    },
    "tags": []
   },
   "outputs": [],
   "source": [
    "X_train, X_test, Y_train,Y_test=train_test_split(X,Y,test_size=0.2)"
   ]
  },
  {
   "cell_type": "code",
   "execution_count": 17,
   "id": "96bdcfaf",
   "metadata": {
    "execution": {
     "iopub.execute_input": "2021-11-27T06:49:40.462643Z",
     "iopub.status.busy": "2021-11-27T06:49:40.460813Z",
     "iopub.status.idle": "2021-11-27T06:49:45.672734Z",
     "shell.execute_reply": "2021-11-27T06:49:45.672147Z",
     "shell.execute_reply.started": "2021-11-27T06:28:58.094221Z"
    },
    "papermill": {
     "duration": 5.242722,
     "end_time": "2021-11-27T06:49:45.672913",
     "exception": false,
     "start_time": "2021-11-27T06:49:40.430191",
     "status": "completed"
    },
    "tags": []
   },
   "outputs": [
    {
     "name": "stderr",
     "output_type": "stream",
     "text": [
      "2021-11-27 06:49:41.083463: W tensorflow/stream_executor/platform/default/dso_loader.cc:60] Could not load dynamic library 'libcudart.so.11.0'; dlerror: libcudart.so.11.0: cannot open shared object file: No such file or directory; LD_LIBRARY_PATH: /opt/conda/lib\n",
      "2021-11-27 06:49:41.083576: I tensorflow/stream_executor/cuda/cudart_stub.cc:29] Ignore above cudart dlerror if you do not have a GPU set up on your machine.\n"
     ]
    }
   ],
   "source": [
    "from tensorflow.keras.models import Sequential, load_model\n",
    "from tensorflow.keras.layers import Dense"
   ]
  },
  {
   "cell_type": "code",
   "execution_count": 18,
   "id": "36a2bc36",
   "metadata": {
    "execution": {
     "iopub.execute_input": "2021-11-27T06:49:45.733763Z",
     "iopub.status.busy": "2021-11-27T06:49:45.733150Z",
     "iopub.status.idle": "2021-11-27T06:49:45.996102Z",
     "shell.execute_reply": "2021-11-27T06:49:45.995463Z",
     "shell.execute_reply.started": "2021-11-27T06:28:58.124199Z"
    },
    "papermill": {
     "duration": 0.294202,
     "end_time": "2021-11-27T06:49:45.996254",
     "exception": false,
     "start_time": "2021-11-27T06:49:45.702052",
     "status": "completed"
    },
    "tags": []
   },
   "outputs": [
    {
     "name": "stderr",
     "output_type": "stream",
     "text": [
      "2021-11-27 06:49:45.747599: I tensorflow/compiler/jit/xla_cpu_device.cc:41] Not creating XLA devices, tf_xla_enable_xla_devices not set\n",
      "2021-11-27 06:49:45.750446: W tensorflow/stream_executor/platform/default/dso_loader.cc:60] Could not load dynamic library 'libcuda.so.1'; dlerror: libcuda.so.1: cannot open shared object file: No such file or directory; LD_LIBRARY_PATH: /opt/conda/lib\n",
      "2021-11-27 06:49:45.750483: W tensorflow/stream_executor/cuda/cuda_driver.cc:326] failed call to cuInit: UNKNOWN ERROR (303)\n",
      "2021-11-27 06:49:45.750510: I tensorflow/stream_executor/cuda/cuda_diagnostics.cc:156] kernel driver does not appear to be running on this host (80e6ed321638): /proc/driver/nvidia/version does not exist\n",
      "2021-11-27 06:49:45.751349: I tensorflow/core/platform/cpu_feature_guard.cc:142] This TensorFlow binary is optimized with oneAPI Deep Neural Network Library (oneDNN) to use the following CPU instructions in performance-critical operations:  AVX2 FMA\n",
      "To enable them in other operations, rebuild TensorFlow with the appropriate compiler flags.\n",
      "2021-11-27 06:49:45.751846: I tensorflow/compiler/jit/xla_gpu_device.cc:99] Not creating XLA devices, tf_xla_enable_xla_devices not set\n"
     ]
    }
   ],
   "source": [
    "model=Sequential()\n",
    "model.add(Dense(units=1500, activation='relu',input_dim=len(X_train.columns)))\n",
    "model.add(Dense(units=1,activation='sigmoid'))"
   ]
  },
  {
   "cell_type": "code",
   "execution_count": 19,
   "id": "fe437ea4",
   "metadata": {
    "execution": {
     "iopub.execute_input": "2021-11-27T06:49:46.066857Z",
     "iopub.status.busy": "2021-11-27T06:49:46.056149Z",
     "iopub.status.idle": "2021-11-27T06:49:46.074218Z",
     "shell.execute_reply": "2021-11-27T06:49:46.073614Z",
     "shell.execute_reply.started": "2021-11-27T06:28:59.605319Z"
    },
    "papermill": {
     "duration": 0.049901,
     "end_time": "2021-11-27T06:49:46.074365",
     "exception": false,
     "start_time": "2021-11-27T06:49:46.024464",
     "status": "completed"
    },
    "tags": []
   },
   "outputs": [],
   "source": [
    "model.compile(loss='binary_crossentropy',optimizer='adam', metrics='accuracy')"
   ]
  },
  {
   "cell_type": "code",
   "execution_count": 20,
   "id": "a828e062",
   "metadata": {
    "execution": {
     "iopub.execute_input": "2021-11-27T06:49:46.137271Z",
     "iopub.status.busy": "2021-11-27T06:49:46.136523Z",
     "iopub.status.idle": "2021-11-27T06:49:47.159762Z",
     "shell.execute_reply": "2021-11-27T06:49:47.160338Z",
     "shell.execute_reply.started": "2021-11-27T06:29:00.445940Z"
    },
    "papermill": {
     "duration": 1.057119,
     "end_time": "2021-11-27T06:49:47.160527",
     "exception": false,
     "start_time": "2021-11-27T06:49:46.103408",
     "status": "completed"
    },
    "tags": []
   },
   "outputs": [
    {
     "name": "stderr",
     "output_type": "stream",
     "text": [
      "2021-11-27 06:49:46.228956: I tensorflow/compiler/mlir/mlir_graph_optimization_pass.cc:116] None of the MLIR optimization passes are enabled (registered 2)\n",
      "2021-11-27 06:49:46.242369: I tensorflow/core/platform/profile_utils/cpu_utils.cc:112] CPU Frequency: 2199995000 Hz\n"
     ]
    },
    {
     "name": "stdout",
     "output_type": "stream",
     "text": [
      "Epoch 1/20\n",
      "5/5 [==============================] - 1s 3ms/step - loss: 0.6797 - accuracy: 0.4924\n",
      "Epoch 2/20\n",
      "5/5 [==============================] - 0s 3ms/step - loss: 0.5521 - accuracy: 0.7971\n",
      "Epoch 3/20\n",
      "5/5 [==============================] - 0s 2ms/step - loss: 0.5085 - accuracy: 0.7867\n",
      "Epoch 4/20\n",
      "5/5 [==============================] - 0s 2ms/step - loss: 0.4527 - accuracy: 0.7906\n",
      "Epoch 5/20\n",
      "5/5 [==============================] - 0s 3ms/step - loss: 0.4757 - accuracy: 0.7506\n",
      "Epoch 6/20\n",
      "5/5 [==============================] - 0s 2ms/step - loss: 0.4102 - accuracy: 0.8299\n",
      "Epoch 7/20\n",
      "5/5 [==============================] - 0s 2ms/step - loss: 0.4366 - accuracy: 0.8162\n",
      "Epoch 8/20\n",
      "5/5 [==============================] - 0s 3ms/step - loss: 0.3634 - accuracy: 0.8599\n",
      "Epoch 9/20\n",
      "5/5 [==============================] - 0s 2ms/step - loss: 0.3907 - accuracy: 0.7884\n",
      "Epoch 10/20\n",
      "5/5 [==============================] - 0s 3ms/step - loss: 0.4070 - accuracy: 0.8341\n",
      "Epoch 11/20\n",
      "5/5 [==============================] - 0s 3ms/step - loss: 0.4152 - accuracy: 0.8238\n",
      "Epoch 12/20\n",
      "5/5 [==============================] - 0s 2ms/step - loss: 0.3787 - accuracy: 0.8480\n",
      "Epoch 13/20\n",
      "5/5 [==============================] - 0s 3ms/step - loss: 0.3514 - accuracy: 0.8860\n",
      "Epoch 14/20\n",
      "5/5 [==============================] - 0s 3ms/step - loss: 0.3384 - accuracy: 0.8528\n",
      "Epoch 15/20\n",
      "5/5 [==============================] - 0s 3ms/step - loss: 0.3534 - accuracy: 0.8800\n",
      "Epoch 16/20\n",
      "5/5 [==============================] - 0s 3ms/step - loss: 0.3490 - accuracy: 0.8830\n",
      "Epoch 17/20\n",
      "5/5 [==============================] - 0s 3ms/step - loss: 0.3384 - accuracy: 0.9116\n",
      "Epoch 18/20\n",
      "5/5 [==============================] - 0s 3ms/step - loss: 0.3782 - accuracy: 0.8419\n",
      "Epoch 19/20\n",
      "5/5 [==============================] - 0s 3ms/step - loss: 0.3511 - accuracy: 0.8501\n",
      "Epoch 20/20\n",
      "5/5 [==============================] - 0s 3ms/step - loss: 0.3501 - accuracy: 0.8998\n"
     ]
    },
    {
     "data": {
      "text/plain": [
       "<tensorflow.python.keras.callbacks.History at 0x7fece03d6810>"
      ]
     },
     "execution_count": 20,
     "metadata": {},
     "output_type": "execute_result"
    }
   ],
   "source": [
    "model.fit(X_train,Y_train,epochs=20, batch_size=32)"
   ]
  },
  {
   "cell_type": "markdown",
   "id": "5d214d63",
   "metadata": {
    "papermill": {
     "duration": 0.04141,
     "end_time": "2021-11-27T06:49:47.245329",
     "exception": false,
     "start_time": "2021-11-27T06:49:47.203919",
     "status": "completed"
    },
    "tags": []
   },
   "source": [
    "**Accuracy of ANN Classifier**"
   ]
  },
  {
   "cell_type": "code",
   "execution_count": 21,
   "id": "6e1ff174",
   "metadata": {
    "execution": {
     "iopub.execute_input": "2021-11-27T06:49:47.339848Z",
     "iopub.status.busy": "2021-11-27T06:49:47.338009Z",
     "iopub.status.idle": "2021-11-27T06:49:47.466809Z",
     "shell.execute_reply": "2021-11-27T06:49:47.466247Z",
     "shell.execute_reply.started": "2021-11-27T06:29:01.438850Z"
    },
    "papermill": {
     "duration": 0.179634,
     "end_time": "2021-11-27T06:49:47.466966",
     "exception": false,
     "start_time": "2021-11-27T06:49:47.287332",
     "status": "completed"
    },
    "tags": []
   },
   "outputs": [
    {
     "data": {
      "text/plain": [
       "0.8653846153846154"
      ]
     },
     "execution_count": 21,
     "metadata": {},
     "output_type": "execute_result"
    }
   ],
   "source": [
    "#Train data accuracy\n",
    "y_TrainAccuracy = model.predict(X_train)\n",
    "y_TrainAccuracy = [0 if val < 0.5 else 1 for val in y_TrainAccuracy]\n",
    "accuracy_score(Y_train, y_TrainAccuracy)"
   ]
  },
  {
   "cell_type": "code",
   "execution_count": 22,
   "id": "33c3eaa7",
   "metadata": {
    "execution": {
     "iopub.execute_input": "2021-11-27T06:49:47.558179Z",
     "iopub.status.busy": "2021-11-27T06:49:47.557403Z",
     "iopub.status.idle": "2021-11-27T06:49:47.639682Z",
     "shell.execute_reply": "2021-11-27T06:49:47.638691Z",
     "shell.execute_reply.started": "2021-11-27T06:29:02.657144Z"
    },
    "papermill": {
     "duration": 0.130696,
     "end_time": "2021-11-27T06:49:47.639873",
     "exception": false,
     "start_time": "2021-11-27T06:49:47.509177",
     "status": "completed"
    },
    "tags": []
   },
   "outputs": [
    {
     "name": "stdout",
     "output_type": "stream",
     "text": [
      "Accuracy =  0.825\n",
      "AUC score =  0.8200000000000001\n"
     ]
    }
   ],
   "source": [
    "#Test Data accuracy\n",
    "y_TestAccuracy = model.predict(X_test)\n",
    "y_TestAccuracy = [0 if val < 0.5 else 1 for val in y_TestAccuracy]\n",
    "acc_score= accuracy_score(Y_test, y_TestAccuracy)\n",
    "print(\"Accuracy = \",acc_score)\n",
    "AUC_score=roc_auc_score(y_TestAccuracy,Y_test)\n",
    "print(\"AUC score = \",AUC_score)"
   ]
  }
 ],
 "metadata": {
  "kernelspec": {
   "display_name": "Python 3",
   "language": "python",
   "name": "python3"
  },
  "language_info": {
   "codemirror_mode": {
    "name": "ipython",
    "version": 3
   },
   "file_extension": ".py",
   "mimetype": "text/x-python",
   "name": "python",
   "nbconvert_exporter": "python",
   "pygments_lexer": "ipython3",
   "version": "3.7.10"
  },
  "papermill": {
   "default_parameters": {},
   "duration": 21.877987,
   "end_time": "2021-11-27T06:49:50.796025",
   "environment_variables": {},
   "exception": null,
   "input_path": "__notebook__.ipynb",
   "output_path": "__notebook__.ipynb",
   "parameters": {},
   "start_time": "2021-11-27T06:49:28.918038",
   "version": "2.3.3"
  }
 },
 "nbformat": 4,
 "nbformat_minor": 5
}
